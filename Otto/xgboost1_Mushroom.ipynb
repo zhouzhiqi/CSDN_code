{
 "cells": [
  {
   "cell_type": "markdown",
   "metadata": {},
   "source": [
    "# 直接调用XGBoost\n",
    "该示例中我们在xgboost安装包中自带的Mushroom数据集演示直接调用XGBoost\n",
    "1. 读取数据--> DMatrix\n",
    "2. 设置参数\n",
    "3. 模型训练：train/cv\n",
    "    3.1: train with 在校验集上early stop\n",
    "    3.2: cv\n",
    "4. 预测"
   ]
  },
  {
   "cell_type": "markdown",
   "metadata": {},
   "source": [
    "## 导入必要的工具包"
   ]
  },
  {
   "cell_type": "code",
   "execution_count": 27,
   "metadata": {
    "collapsed": true
   },
   "outputs": [],
   "source": [
    "# 导入必要的工具包\n",
    "import xgboost as xgb\n",
    "\n",
    "# 计算分类正确率\n",
    "from sklearn.metrics import accuracy_score"
   ]
  },
  {
   "cell_type": "markdown",
   "metadata": {},
   "source": [
    "## 数据读取"
   ]
  },
  {
   "cell_type": "markdown",
   "metadata": {},
   "source": [
    "XGBoost可以加载libsvm格式的文本数据，libsvm的文件格式（稀疏特征）如下：\n",
    "1 101:1.2 102:0.03\n",
    "0 1:2.1 10001:300 10002:400\n",
    "...\n",
    "\n",
    "每一行表示一个样本，第一行的开头的“1”是样本的标签。“101”和“102”为特征索引，'1.2'和'0.03' 为特征的值。\n",
    "在两类分类中，用“1”表示正样本，用“0” 表示负样本。也支持[0,1]表示概率用来做标签，表示为正样本的概率。\n",
    "\n",
    "下面的示例数据需要我们通过一些蘑菇的若干属性判断这个品种是否有毒。\n",
    "UCI数据描述：http://archive.ics.uci.edu/ml/machine-learning-databases/mushroom/ ，\n",
    "每个样本描述了蘑菇的22个属性，比如形状、气味等等（将22维原始特征用加工后变成了126维特征，\n",
    "并存为libsvm格式)，然后给出了这个蘑菇是否可食用。其中6513个样本做训练，1611个样本做测试。\n",
    "\n",
    "XGBoost加载的数据存储在对象DMatrix中\n",
    "XGBoost自定义了一个数据矩阵类DMatrix，优化了存储和运算速度\n",
    "DMatrix文档：http://xgboost.readthedocs.io/en/latest/python/python_api.html"
   ]
  },
  {
   "cell_type": "code",
   "execution_count": 28,
   "metadata": {
    "collapsed": true
   },
   "outputs": [],
   "source": [
    "# read in data，数据在xgboost安装的路径下的demo目录,现在我们将其copy到当前代码下的data目录\n",
    "dpath = './data/'\n",
    "dtrain = xgb.DMatrix(dpath + 'agaricus.txt.train')\n",
    "dtest = xgb.DMatrix(dpath + 'agaricus.txt.test')"
   ]
  },
  {
   "cell_type": "markdown",
   "metadata": {},
   "source": [
    "查看数据情况"
   ]
  },
  {
   "cell_type": "code",
   "execution_count": 29,
   "metadata": {},
   "outputs": [
    {
     "data": {
      "text/plain": [
       "127L"
      ]
     },
     "execution_count": 29,
     "metadata": {},
     "output_type": "execute_result"
    }
   ],
   "source": [
    "dtrain.num_col()"
   ]
  },
  {
   "cell_type": "code",
   "execution_count": 30,
   "metadata": {},
   "outputs": [
    {
     "data": {
      "text/plain": [
       "6513L"
      ]
     },
     "execution_count": 30,
     "metadata": {},
     "output_type": "execute_result"
    }
   ],
   "source": [
    "dtrain.num_row()"
   ]
  },
  {
   "cell_type": "code",
   "execution_count": 31,
   "metadata": {},
   "outputs": [
    {
     "data": {
      "text/plain": [
       "1611L"
      ]
     },
     "execution_count": 31,
     "metadata": {},
     "output_type": "execute_result"
    }
   ],
   "source": [
    "dtest.num_row()"
   ]
  },
  {
   "cell_type": "markdown",
   "metadata": {},
   "source": [
    "## 训练参数设置"
   ]
  },
  {
   "cell_type": "markdown",
   "metadata": {},
   "source": [
    "max_depth： 树的最大深度。缺省值为6，取值范围为：[1,∞]\n",
    "eta：学习率。为了防止过拟合，更新过程中用到的收缩步长。\n",
    "eta通过缩减特征的权重使提升计算过程更加保守。缺省值为0.3，取值范围为：[0,1]\n",
    "silent：取0时表示打印出运行时信息，取1时表示以缄默方式运行，不打印运行时信息。缺省值为0\n",
    "objective： 定义学习任务及相应的学习目标，“binary:logistic” 表示二分类的逻辑回归问题，输出为概率。\n",
    "\n",
    "其他参数取默认值。"
   ]
  },
  {
   "cell_type": "code",
   "execution_count": 32,
   "metadata": {
    "collapsed": true
   },
   "outputs": [],
   "source": [
    "# specify parameters via map\n",
    "param = {'max_depth':2, 'eta':1, 'silent':0, 'objective':'binary:logistic' }"
   ]
  },
  {
   "cell_type": "markdown",
   "metadata": {},
   "source": [
    "## 训练模型"
   ]
  },
  {
   "cell_type": "markdown",
   "metadata": {},
   "source": [
    "有了参数列表和数据就可以训练模型了 "
   ]
  },
  {
   "cell_type": "code",
   "execution_count": 33,
   "metadata": {
    "collapsed": true
   },
   "outputs": [],
   "source": [
    "# 设置boosting迭代计算次数，即若学习器（决策树）的数目\n",
    "num_round = 2\n",
    "\n",
    "#import time\n",
    "#starttime = time.clock()\n",
    "\n",
    "bst = xgb.train(param, dtrain, num_round)\n",
    "\n",
    "#endtime = time.clock()\n",
    "#print (endtime - starttime)"
   ]
  },
  {
   "cell_type": "markdown",
   "metadata": {},
   "source": [
    "查看模型在训练集上的分类性能"
   ]
  },
  {
   "cell_type": "markdown",
   "metadata": {},
   "source": [
    "XGBoost预测的输出是概率。这里蘑菇分类是一个二类分类问题，输出值是样本为第一类的概率。\n",
    "我们需要将概率值转换为0或1。"
   ]
  },
  {
   "cell_type": "code",
   "execution_count": 34,
   "metadata": {},
   "outputs": [
    {
     "name": "stdout",
     "output_type": "stream",
     "text": [
      "Train Accuary: 97.77%\n"
     ]
    }
   ],
   "source": [
    "train_preds = bst.predict(dtrain)\n",
    "train_predictions = [round(value) for value in train_preds]\n",
    "y_train = dtrain.get_label()\n",
    "train_accuracy = accuracy_score(y_train, train_predictions)\n",
    "print (\"Train Accuary: %.2f%%\" % (train_accuracy * 100.0))"
   ]
  },
  {
   "cell_type": "markdown",
   "metadata": {},
   "source": [
    "## 测试"
   ]
  },
  {
   "cell_type": "markdown",
   "metadata": {},
   "source": [
    "模型训练好后，可以用训练好的模型对测试数据进行预测"
   ]
  },
  {
   "cell_type": "code",
   "execution_count": 35,
   "metadata": {
    "collapsed": true
   },
   "outputs": [],
   "source": [
    "# make prediction\n",
    "preds = bst.predict(dtest)"
   ]
  },
  {
   "cell_type": "markdown",
   "metadata": {},
   "source": [
    "检查模型在测试集上的正确率\n",
    "XGBoost预测的输出是概率，输出值是样本为第一类的概率。我们需要将概率值转换为0或1。"
   ]
  },
  {
   "cell_type": "code",
   "execution_count": 36,
   "metadata": {
    "collapsed": true
   },
   "outputs": [],
   "source": [
    "predictions = [round(value) for value in preds]"
   ]
  },
  {
   "cell_type": "code",
   "execution_count": 37,
   "metadata": {},
   "outputs": [
    {
     "name": "stdout",
     "output_type": "stream",
     "text": [
      "Test Accuracy: 97.83%\n"
     ]
    }
   ],
   "source": [
    "y_test = dtest.get_label()\n",
    "test_accuracy = accuracy_score(y_test, predictions)\n",
    "print(\"Test Accuracy: %.2f%%\" % (test_accuracy * 100.0))"
   ]
  },
  {
   "cell_type": "markdown",
   "metadata": {},
   "source": [
    "## 模型可视化"
   ]
  },
  {
   "cell_type": "markdown",
   "metadata": {},
   "source": [
    "调用XGBoost工具包中的plot_tree，在显示\n",
    "要可视化模型需要安装graphviz软件包\n",
    "ip install graphviz\n",
    "\n",
    "plot_tree（）的三个参数：\n",
    "1. 模型\n",
    "2. 树的索引，从0开始\n",
    "3. 显示方向，缺省为竖直，‘LR'是水平方向"
   ]
  },
  {
   "cell_type": "code",
   "execution_count": 38,
   "metadata": {},
   "outputs": [
    {
     "data": {
      "image/svg+xml": [
       "<?xml version=\"1.0\" encoding=\"UTF-8\" standalone=\"no\"?>\n",
       "<!DOCTYPE svg PUBLIC \"-//W3C//DTD SVG 1.1//EN\"\n",
       " \"http://www.w3.org/Graphics/SVG/1.1/DTD/svg11.dtd\">\n",
       "<!-- Generated by graphviz version 2.38.0 (20140413.2041)\n",
       " -->\n",
       "<!-- Title: %3 Pages: 1 -->\n",
       "<svg width=\"301pt\" height=\"441pt\"\n",
       " viewBox=\"0.00 0.00 301.21 441.13\" xmlns=\"http://www.w3.org/2000/svg\" xmlns:xlink=\"http://www.w3.org/1999/xlink\">\n",
       "<g id=\"graph0\" class=\"graph\" transform=\"scale(1 1) rotate(0) translate(4 437.13)\">\n",
       "<title>%3</title>\n",
       "<polygon fill=\"white\" stroke=\"none\" points=\"-4,4 -4,-437.13 297.206,-437.13 297.206,4 -4,4\"/>\n",
       "<!-- 0 -->\n",
       "<g id=\"node1\" class=\"node\"><title>0</title>\n",
       "<ellipse fill=\"none\" stroke=\"black\" cx=\"199.688\" cy=\"-358.847\" rx=\"74.0654\" ry=\"74.0654\"/>\n",
       "<text text-anchor=\"middle\" x=\"199.688\" y=\"-354.647\" font-family=\"Times,serif\" font-size=\"14.00\">f60&lt;&#45;9.53674e&#45;07</text>\n",
       "</g>\n",
       "<!-- 1 -->\n",
       "<g id=\"node2\" class=\"node\"><title>1</title>\n",
       "<ellipse fill=\"none\" stroke=\"black\" cx=\"105.688\" cy=\"-160.282\" rx=\"74.0654\" ry=\"74.0654\"/>\n",
       "<text text-anchor=\"middle\" x=\"105.688\" y=\"-156.082\" font-family=\"Times,serif\" font-size=\"14.00\">f29&lt;&#45;9.53674e&#45;07</text>\n",
       "</g>\n",
       "<!-- 0&#45;&gt;1 -->\n",
       "<g id=\"edge1\" class=\"edge\"><title>0&#45;&gt;1</title>\n",
       "<path fill=\"none\" stroke=\"#0000ff\" d=\"M162.555,-294.05C157.632,-284.92 152.795,-275.571 148.46,-266.565 144.224,-257.765 140.027,-248.433 136.012,-239.102\"/>\n",
       "<polygon fill=\"#0000ff\" stroke=\"#0000ff\" points=\"139.19,-237.631 132.064,-229.791 132.746,-240.364 139.19,-237.631\"/>\n",
       "<text text-anchor=\"middle\" x=\"183.301\" y=\"-255.365\" font-family=\"Times,serif\" font-size=\"14.00\">yes, missing</text>\n",
       "</g>\n",
       "<!-- 2 -->\n",
       "<g id=\"node3\" class=\"node\"><title>2</title>\n",
       "<polygon fill=\"none\" stroke=\"black\" points=\"293.225,-178.282 198.15,-178.282 198.15,-142.282 293.225,-142.282 293.225,-178.282\"/>\n",
       "<text text-anchor=\"middle\" x=\"245.688\" y=\"-156.082\" font-family=\"Times,serif\" font-size=\"14.00\">leaf=&#45;6.23624</text>\n",
       "</g>\n",
       "<!-- 0&#45;&gt;2 -->\n",
       "<g id=\"edge2\" class=\"edge\"><title>0&#45;&gt;2</title>\n",
       "<path fill=\"none\" stroke=\"#ff0000\" d=\"M216.425,-286.327C224.382,-252.325 233.421,-213.698 239.321,-188.486\"/>\n",
       "<polygon fill=\"#ff0000\" stroke=\"#ff0000\" points=\"242.775,-189.09 241.645,-178.555 235.959,-187.495 242.775,-189.09\"/>\n",
       "<text text-anchor=\"middle\" x=\"231.688\" y=\"-255.365\" font-family=\"Times,serif\" font-size=\"14.00\">no</text>\n",
       "</g>\n",
       "<!-- 3 -->\n",
       "<g id=\"node4\" class=\"node\"><title>3</title>\n",
       "<polygon fill=\"none\" stroke=\"black\" points=\"97.5632,-36 -0.188225,-36 -0.188225,-0 97.5632,-0 97.5632,-36\"/>\n",
       "<text text-anchor=\"middle\" x=\"48.6875\" y=\"-13.8\" font-family=\"Times,serif\" font-size=\"14.00\">leaf=0.784718</text>\n",
       "</g>\n",
       "<!-- 1&#45;&gt;3 -->\n",
       "<g id=\"edge3\" class=\"edge\"><title>1&#45;&gt;3</title>\n",
       "<path fill=\"none\" stroke=\"#0000ff\" d=\"M78.0224,-91.1959C71.4222,-74.9523 64.7623,-58.5617 59.4602,-45.5126\"/>\n",
       "<polygon fill=\"#0000ff\" stroke=\"#0000ff\" points=\"62.7007,-44.19 55.6938,-36.2431 56.2156,-46.8251 62.7007,-44.19\"/>\n",
       "<text text-anchor=\"middle\" x=\"102.301\" y=\"-56.8\" font-family=\"Times,serif\" font-size=\"14.00\">yes, missing</text>\n",
       "</g>\n",
       "<!-- 4 -->\n",
       "<g id=\"node5\" class=\"node\"><title>4</title>\n",
       "<polygon fill=\"none\" stroke=\"black\" points=\"210.225,-36 115.15,-36 115.15,-0 210.225,-0 210.225,-36\"/>\n",
       "<text text-anchor=\"middle\" x=\"162.688\" y=\"-13.8\" font-family=\"Times,serif\" font-size=\"14.00\">leaf=&#45;0.96853</text>\n",
       "</g>\n",
       "<!-- 1&#45;&gt;4 -->\n",
       "<g id=\"edge4\" class=\"edge\"><title>1&#45;&gt;4</title>\n",
       "<path fill=\"none\" stroke=\"#ff0000\" d=\"M133.353,-91.1959C139.953,-74.9523 146.613,-58.5617 151.915,-45.5126\"/>\n",
       "<polygon fill=\"#ff0000\" stroke=\"#ff0000\" points=\"155.159,-46.8251 155.681,-36.2431 148.674,-44.19 155.159,-46.8251\"/>\n",
       "<text text-anchor=\"middle\" x=\"154.688\" y=\"-56.8\" font-family=\"Times,serif\" font-size=\"14.00\">no</text>\n",
       "</g>\n",
       "</g>\n",
       "</svg>\n"
      ],
      "text/plain": [
       "<graphviz.dot.Digraph at 0x1146989d0>"
      ]
     },
     "execution_count": 38,
     "metadata": {},
     "output_type": "execute_result"
    }
   ],
   "source": [
    "from matplotlib import pyplot\n",
    "import graphviz\n",
    "#xgb.plot_tree(bst, num_trees=0, rankdir= 'LR' )\n",
    "#pyplot.show()\n",
    "\n",
    "#xgb.plot_tree(bst,num_trees=1, rankdir= 'LR' )\n",
    "#pyplot.show()\n",
    "#xgb.to_graphviz(bst,num_trees=0)\n",
    "xgb.to_graphviz(bst,num_trees=1)"
   ]
  },
  {
   "cell_type": "markdown",
   "metadata": {
    "collapsed": true
   },
   "source": [
    "## 采用交叉验证得到最佳的n_estimators"
   ]
  },
  {
   "cell_type": "code",
   "execution_count": 39,
   "metadata": {},
   "outputs": [],
   "source": [
    "n_estimators = 1000\n",
    "early_stopping_rounds = 10\n",
    "cv_result = xgb.cv(param, dtrain, num_boost_round=n_estimators, folds =5,\n",
    "             metrics='logloss', early_stopping_rounds=early_stopping_rounds)\n",
    "  \n"
   ]
  },
  {
   "cell_type": "code",
   "execution_count": 40,
   "metadata": {},
   "outputs": [
    {
     "data": {
      "text/html": [
       "<div>\n",
       "<style>\n",
       "    .dataframe thead tr:only-child th {\n",
       "        text-align: right;\n",
       "    }\n",
       "\n",
       "    .dataframe thead th {\n",
       "        text-align: left;\n",
       "    }\n",
       "\n",
       "    .dataframe tbody tr th {\n",
       "        vertical-align: top;\n",
       "    }\n",
       "</style>\n",
       "<table border=\"1\" class=\"dataframe\">\n",
       "  <thead>\n",
       "    <tr style=\"text-align: right;\">\n",
       "      <th></th>\n",
       "      <th>test-logloss-mean</th>\n",
       "      <th>test-logloss-std</th>\n",
       "      <th>train-logloss-mean</th>\n",
       "      <th>train-logloss-std</th>\n",
       "    </tr>\n",
       "  </thead>\n",
       "  <tbody>\n",
       "    <tr>\n",
       "      <th>0</th>\n",
       "      <td>0.233672</td>\n",
       "      <td>0.004222</td>\n",
       "      <td>0.233574</td>\n",
       "      <td>0.002588</td>\n",
       "    </tr>\n",
       "    <tr>\n",
       "      <th>1</th>\n",
       "      <td>0.137153</td>\n",
       "      <td>0.004188</td>\n",
       "      <td>0.137062</td>\n",
       "      <td>0.001687</td>\n",
       "    </tr>\n",
       "    <tr>\n",
       "      <th>2</th>\n",
       "      <td>0.083247</td>\n",
       "      <td>0.001000</td>\n",
       "      <td>0.083167</td>\n",
       "      <td>0.000856</td>\n",
       "    </tr>\n",
       "    <tr>\n",
       "      <th>3</th>\n",
       "      <td>0.057180</td>\n",
       "      <td>0.001501</td>\n",
       "      <td>0.057117</td>\n",
       "      <td>0.001012</td>\n",
       "    </tr>\n",
       "    <tr>\n",
       "      <th>4</th>\n",
       "      <td>0.042534</td>\n",
       "      <td>0.000609</td>\n",
       "      <td>0.041473</td>\n",
       "      <td>0.000507</td>\n",
       "    </tr>\n",
       "    <tr>\n",
       "      <th>5</th>\n",
       "      <td>0.028232</td>\n",
       "      <td>0.004339</td>\n",
       "      <td>0.028354</td>\n",
       "      <td>0.001794</td>\n",
       "    </tr>\n",
       "    <tr>\n",
       "      <th>6</th>\n",
       "      <td>0.019509</td>\n",
       "      <td>0.001554</td>\n",
       "      <td>0.019259</td>\n",
       "      <td>0.000156</td>\n",
       "    </tr>\n",
       "    <tr>\n",
       "      <th>7</th>\n",
       "      <td>0.015521</td>\n",
       "      <td>0.001268</td>\n",
       "      <td>0.014934</td>\n",
       "      <td>0.000269</td>\n",
       "    </tr>\n",
       "    <tr>\n",
       "      <th>8</th>\n",
       "      <td>0.011678</td>\n",
       "      <td>0.000404</td>\n",
       "      <td>0.011424</td>\n",
       "      <td>0.000466</td>\n",
       "    </tr>\n",
       "    <tr>\n",
       "      <th>9</th>\n",
       "      <td>0.009882</td>\n",
       "      <td>0.000648</td>\n",
       "      <td>0.009627</td>\n",
       "      <td>0.000080</td>\n",
       "    </tr>\n",
       "    <tr>\n",
       "      <th>10</th>\n",
       "      <td>0.007019</td>\n",
       "      <td>0.000654</td>\n",
       "      <td>0.006814</td>\n",
       "      <td>0.000208</td>\n",
       "    </tr>\n",
       "    <tr>\n",
       "      <th>11</th>\n",
       "      <td>0.005447</td>\n",
       "      <td>0.000269</td>\n",
       "      <td>0.005408</td>\n",
       "      <td>0.000180</td>\n",
       "    </tr>\n",
       "    <tr>\n",
       "      <th>12</th>\n",
       "      <td>0.004590</td>\n",
       "      <td>0.000211</td>\n",
       "      <td>0.004596</td>\n",
       "      <td>0.000129</td>\n",
       "    </tr>\n",
       "    <tr>\n",
       "      <th>13</th>\n",
       "      <td>0.003703</td>\n",
       "      <td>0.000252</td>\n",
       "      <td>0.003607</td>\n",
       "      <td>0.000310</td>\n",
       "    </tr>\n",
       "    <tr>\n",
       "      <th>14</th>\n",
       "      <td>0.003236</td>\n",
       "      <td>0.000143</td>\n",
       "      <td>0.003208</td>\n",
       "      <td>0.000254</td>\n",
       "    </tr>\n",
       "    <tr>\n",
       "      <th>15</th>\n",
       "      <td>0.002857</td>\n",
       "      <td>0.000251</td>\n",
       "      <td>0.002785</td>\n",
       "      <td>0.000308</td>\n",
       "    </tr>\n",
       "    <tr>\n",
       "      <th>16</th>\n",
       "      <td>0.002570</td>\n",
       "      <td>0.000209</td>\n",
       "      <td>0.002509</td>\n",
       "      <td>0.000295</td>\n",
       "    </tr>\n",
       "    <tr>\n",
       "      <th>17</th>\n",
       "      <td>0.002249</td>\n",
       "      <td>0.000184</td>\n",
       "      <td>0.002169</td>\n",
       "      <td>0.000217</td>\n",
       "    </tr>\n",
       "    <tr>\n",
       "      <th>18</th>\n",
       "      <td>0.002007</td>\n",
       "      <td>0.000134</td>\n",
       "      <td>0.001925</td>\n",
       "      <td>0.000161</td>\n",
       "    </tr>\n",
       "    <tr>\n",
       "      <th>19</th>\n",
       "      <td>0.001768</td>\n",
       "      <td>0.000097</td>\n",
       "      <td>0.001684</td>\n",
       "      <td>0.000111</td>\n",
       "    </tr>\n",
       "    <tr>\n",
       "      <th>20</th>\n",
       "      <td>0.001609</td>\n",
       "      <td>0.000077</td>\n",
       "      <td>0.001554</td>\n",
       "      <td>0.000099</td>\n",
       "    </tr>\n",
       "    <tr>\n",
       "      <th>21</th>\n",
       "      <td>0.001459</td>\n",
       "      <td>0.000023</td>\n",
       "      <td>0.001408</td>\n",
       "      <td>0.000042</td>\n",
       "    </tr>\n",
       "    <tr>\n",
       "      <th>22</th>\n",
       "      <td>0.001347</td>\n",
       "      <td>0.000001</td>\n",
       "      <td>0.001297</td>\n",
       "      <td>0.000016</td>\n",
       "    </tr>\n",
       "    <tr>\n",
       "      <th>23</th>\n",
       "      <td>0.001238</td>\n",
       "      <td>0.000022</td>\n",
       "      <td>0.001202</td>\n",
       "      <td>0.000022</td>\n",
       "    </tr>\n",
       "    <tr>\n",
       "      <th>24</th>\n",
       "      <td>0.001155</td>\n",
       "      <td>0.000032</td>\n",
       "      <td>0.001120</td>\n",
       "      <td>0.000018</td>\n",
       "    </tr>\n",
       "    <tr>\n",
       "      <th>25</th>\n",
       "      <td>0.001086</td>\n",
       "      <td>0.000031</td>\n",
       "      <td>0.001057</td>\n",
       "      <td>0.000017</td>\n",
       "    </tr>\n",
       "    <tr>\n",
       "      <th>26</th>\n",
       "      <td>0.001028</td>\n",
       "      <td>0.000025</td>\n",
       "      <td>0.000990</td>\n",
       "      <td>0.000017</td>\n",
       "    </tr>\n",
       "    <tr>\n",
       "      <th>27</th>\n",
       "      <td>0.000991</td>\n",
       "      <td>0.000030</td>\n",
       "      <td>0.000949</td>\n",
       "      <td>0.000018</td>\n",
       "    </tr>\n",
       "    <tr>\n",
       "      <th>28</th>\n",
       "      <td>0.000947</td>\n",
       "      <td>0.000029</td>\n",
       "      <td>0.000912</td>\n",
       "      <td>0.000024</td>\n",
       "    </tr>\n",
       "    <tr>\n",
       "      <th>29</th>\n",
       "      <td>0.000913</td>\n",
       "      <td>0.000031</td>\n",
       "      <td>0.000872</td>\n",
       "      <td>0.000023</td>\n",
       "    </tr>\n",
       "    <tr>\n",
       "      <th>...</th>\n",
       "      <td>...</td>\n",
       "      <td>...</td>\n",
       "      <td>...</td>\n",
       "      <td>...</td>\n",
       "    </tr>\n",
       "    <tr>\n",
       "      <th>118</th>\n",
       "      <td>0.000683</td>\n",
       "      <td>0.000018</td>\n",
       "      <td>0.000657</td>\n",
       "      <td>0.000013</td>\n",
       "    </tr>\n",
       "    <tr>\n",
       "      <th>119</th>\n",
       "      <td>0.000682</td>\n",
       "      <td>0.000018</td>\n",
       "      <td>0.000657</td>\n",
       "      <td>0.000013</td>\n",
       "    </tr>\n",
       "    <tr>\n",
       "      <th>120</th>\n",
       "      <td>0.000682</td>\n",
       "      <td>0.000019</td>\n",
       "      <td>0.000657</td>\n",
       "      <td>0.000013</td>\n",
       "    </tr>\n",
       "    <tr>\n",
       "      <th>121</th>\n",
       "      <td>0.000681</td>\n",
       "      <td>0.000019</td>\n",
       "      <td>0.000657</td>\n",
       "      <td>0.000013</td>\n",
       "    </tr>\n",
       "    <tr>\n",
       "      <th>122</th>\n",
       "      <td>0.000681</td>\n",
       "      <td>0.000019</td>\n",
       "      <td>0.000656</td>\n",
       "      <td>0.000013</td>\n",
       "    </tr>\n",
       "    <tr>\n",
       "      <th>123</th>\n",
       "      <td>0.000681</td>\n",
       "      <td>0.000019</td>\n",
       "      <td>0.000656</td>\n",
       "      <td>0.000013</td>\n",
       "    </tr>\n",
       "    <tr>\n",
       "      <th>124</th>\n",
       "      <td>0.000681</td>\n",
       "      <td>0.000019</td>\n",
       "      <td>0.000656</td>\n",
       "      <td>0.000013</td>\n",
       "    </tr>\n",
       "    <tr>\n",
       "      <th>125</th>\n",
       "      <td>0.000681</td>\n",
       "      <td>0.000019</td>\n",
       "      <td>0.000656</td>\n",
       "      <td>0.000013</td>\n",
       "    </tr>\n",
       "    <tr>\n",
       "      <th>126</th>\n",
       "      <td>0.000681</td>\n",
       "      <td>0.000019</td>\n",
       "      <td>0.000656</td>\n",
       "      <td>0.000014</td>\n",
       "    </tr>\n",
       "    <tr>\n",
       "      <th>127</th>\n",
       "      <td>0.000681</td>\n",
       "      <td>0.000018</td>\n",
       "      <td>0.000655</td>\n",
       "      <td>0.000013</td>\n",
       "    </tr>\n",
       "    <tr>\n",
       "      <th>128</th>\n",
       "      <td>0.000681</td>\n",
       "      <td>0.000019</td>\n",
       "      <td>0.000655</td>\n",
       "      <td>0.000013</td>\n",
       "    </tr>\n",
       "    <tr>\n",
       "      <th>129</th>\n",
       "      <td>0.000680</td>\n",
       "      <td>0.000019</td>\n",
       "      <td>0.000655</td>\n",
       "      <td>0.000014</td>\n",
       "    </tr>\n",
       "    <tr>\n",
       "      <th>130</th>\n",
       "      <td>0.000680</td>\n",
       "      <td>0.000019</td>\n",
       "      <td>0.000655</td>\n",
       "      <td>0.000014</td>\n",
       "    </tr>\n",
       "    <tr>\n",
       "      <th>131</th>\n",
       "      <td>0.000680</td>\n",
       "      <td>0.000019</td>\n",
       "      <td>0.000655</td>\n",
       "      <td>0.000014</td>\n",
       "    </tr>\n",
       "    <tr>\n",
       "      <th>132</th>\n",
       "      <td>0.000680</td>\n",
       "      <td>0.000019</td>\n",
       "      <td>0.000655</td>\n",
       "      <td>0.000014</td>\n",
       "    </tr>\n",
       "    <tr>\n",
       "      <th>133</th>\n",
       "      <td>0.000680</td>\n",
       "      <td>0.000019</td>\n",
       "      <td>0.000655</td>\n",
       "      <td>0.000014</td>\n",
       "    </tr>\n",
       "    <tr>\n",
       "      <th>134</th>\n",
       "      <td>0.000680</td>\n",
       "      <td>0.000019</td>\n",
       "      <td>0.000655</td>\n",
       "      <td>0.000014</td>\n",
       "    </tr>\n",
       "    <tr>\n",
       "      <th>135</th>\n",
       "      <td>0.000680</td>\n",
       "      <td>0.000019</td>\n",
       "      <td>0.000655</td>\n",
       "      <td>0.000014</td>\n",
       "    </tr>\n",
       "    <tr>\n",
       "      <th>136</th>\n",
       "      <td>0.000680</td>\n",
       "      <td>0.000019</td>\n",
       "      <td>0.000655</td>\n",
       "      <td>0.000014</td>\n",
       "    </tr>\n",
       "    <tr>\n",
       "      <th>137</th>\n",
       "      <td>0.000680</td>\n",
       "      <td>0.000019</td>\n",
       "      <td>0.000655</td>\n",
       "      <td>0.000014</td>\n",
       "    </tr>\n",
       "    <tr>\n",
       "      <th>138</th>\n",
       "      <td>0.000680</td>\n",
       "      <td>0.000019</td>\n",
       "      <td>0.000654</td>\n",
       "      <td>0.000014</td>\n",
       "    </tr>\n",
       "    <tr>\n",
       "      <th>139</th>\n",
       "      <td>0.000679</td>\n",
       "      <td>0.000020</td>\n",
       "      <td>0.000654</td>\n",
       "      <td>0.000014</td>\n",
       "    </tr>\n",
       "    <tr>\n",
       "      <th>140</th>\n",
       "      <td>0.000679</td>\n",
       "      <td>0.000020</td>\n",
       "      <td>0.000654</td>\n",
       "      <td>0.000014</td>\n",
       "    </tr>\n",
       "    <tr>\n",
       "      <th>141</th>\n",
       "      <td>0.000679</td>\n",
       "      <td>0.000020</td>\n",
       "      <td>0.000654</td>\n",
       "      <td>0.000014</td>\n",
       "    </tr>\n",
       "    <tr>\n",
       "      <th>142</th>\n",
       "      <td>0.000679</td>\n",
       "      <td>0.000020</td>\n",
       "      <td>0.000654</td>\n",
       "      <td>0.000014</td>\n",
       "    </tr>\n",
       "    <tr>\n",
       "      <th>143</th>\n",
       "      <td>0.000679</td>\n",
       "      <td>0.000020</td>\n",
       "      <td>0.000654</td>\n",
       "      <td>0.000014</td>\n",
       "    </tr>\n",
       "    <tr>\n",
       "      <th>144</th>\n",
       "      <td>0.000679</td>\n",
       "      <td>0.000020</td>\n",
       "      <td>0.000654</td>\n",
       "      <td>0.000014</td>\n",
       "    </tr>\n",
       "    <tr>\n",
       "      <th>145</th>\n",
       "      <td>0.000679</td>\n",
       "      <td>0.000020</td>\n",
       "      <td>0.000654</td>\n",
       "      <td>0.000014</td>\n",
       "    </tr>\n",
       "    <tr>\n",
       "      <th>146</th>\n",
       "      <td>0.000679</td>\n",
       "      <td>0.000020</td>\n",
       "      <td>0.000654</td>\n",
       "      <td>0.000014</td>\n",
       "    </tr>\n",
       "    <tr>\n",
       "      <th>147</th>\n",
       "      <td>0.000679</td>\n",
       "      <td>0.000020</td>\n",
       "      <td>0.000654</td>\n",
       "      <td>0.000014</td>\n",
       "    </tr>\n",
       "  </tbody>\n",
       "</table>\n",
       "<p>148 rows × 4 columns</p>\n",
       "</div>"
      ],
      "text/plain": [
       "     test-logloss-mean  test-logloss-std  train-logloss-mean  \\\n",
       "0             0.233672          0.004222            0.233574   \n",
       "1             0.137153          0.004188            0.137062   \n",
       "2             0.083247          0.001000            0.083167   \n",
       "3             0.057180          0.001501            0.057117   \n",
       "4             0.042534          0.000609            0.041473   \n",
       "5             0.028232          0.004339            0.028354   \n",
       "6             0.019509          0.001554            0.019259   \n",
       "7             0.015521          0.001268            0.014934   \n",
       "8             0.011678          0.000404            0.011424   \n",
       "9             0.009882          0.000648            0.009627   \n",
       "10            0.007019          0.000654            0.006814   \n",
       "11            0.005447          0.000269            0.005408   \n",
       "12            0.004590          0.000211            0.004596   \n",
       "13            0.003703          0.000252            0.003607   \n",
       "14            0.003236          0.000143            0.003208   \n",
       "15            0.002857          0.000251            0.002785   \n",
       "16            0.002570          0.000209            0.002509   \n",
       "17            0.002249          0.000184            0.002169   \n",
       "18            0.002007          0.000134            0.001925   \n",
       "19            0.001768          0.000097            0.001684   \n",
       "20            0.001609          0.000077            0.001554   \n",
       "21            0.001459          0.000023            0.001408   \n",
       "22            0.001347          0.000001            0.001297   \n",
       "23            0.001238          0.000022            0.001202   \n",
       "24            0.001155          0.000032            0.001120   \n",
       "25            0.001086          0.000031            0.001057   \n",
       "26            0.001028          0.000025            0.000990   \n",
       "27            0.000991          0.000030            0.000949   \n",
       "28            0.000947          0.000029            0.000912   \n",
       "29            0.000913          0.000031            0.000872   \n",
       "..                 ...               ...                 ...   \n",
       "118           0.000683          0.000018            0.000657   \n",
       "119           0.000682          0.000018            0.000657   \n",
       "120           0.000682          0.000019            0.000657   \n",
       "121           0.000681          0.000019            0.000657   \n",
       "122           0.000681          0.000019            0.000656   \n",
       "123           0.000681          0.000019            0.000656   \n",
       "124           0.000681          0.000019            0.000656   \n",
       "125           0.000681          0.000019            0.000656   \n",
       "126           0.000681          0.000019            0.000656   \n",
       "127           0.000681          0.000018            0.000655   \n",
       "128           0.000681          0.000019            0.000655   \n",
       "129           0.000680          0.000019            0.000655   \n",
       "130           0.000680          0.000019            0.000655   \n",
       "131           0.000680          0.000019            0.000655   \n",
       "132           0.000680          0.000019            0.000655   \n",
       "133           0.000680          0.000019            0.000655   \n",
       "134           0.000680          0.000019            0.000655   \n",
       "135           0.000680          0.000019            0.000655   \n",
       "136           0.000680          0.000019            0.000655   \n",
       "137           0.000680          0.000019            0.000655   \n",
       "138           0.000680          0.000019            0.000654   \n",
       "139           0.000679          0.000020            0.000654   \n",
       "140           0.000679          0.000020            0.000654   \n",
       "141           0.000679          0.000020            0.000654   \n",
       "142           0.000679          0.000020            0.000654   \n",
       "143           0.000679          0.000020            0.000654   \n",
       "144           0.000679          0.000020            0.000654   \n",
       "145           0.000679          0.000020            0.000654   \n",
       "146           0.000679          0.000020            0.000654   \n",
       "147           0.000679          0.000020            0.000654   \n",
       "\n",
       "     train-logloss-std  \n",
       "0             0.002588  \n",
       "1             0.001687  \n",
       "2             0.000856  \n",
       "3             0.001012  \n",
       "4             0.000507  \n",
       "5             0.001794  \n",
       "6             0.000156  \n",
       "7             0.000269  \n",
       "8             0.000466  \n",
       "9             0.000080  \n",
       "10            0.000208  \n",
       "11            0.000180  \n",
       "12            0.000129  \n",
       "13            0.000310  \n",
       "14            0.000254  \n",
       "15            0.000308  \n",
       "16            0.000295  \n",
       "17            0.000217  \n",
       "18            0.000161  \n",
       "19            0.000111  \n",
       "20            0.000099  \n",
       "21            0.000042  \n",
       "22            0.000016  \n",
       "23            0.000022  \n",
       "24            0.000018  \n",
       "25            0.000017  \n",
       "26            0.000017  \n",
       "27            0.000018  \n",
       "28            0.000024  \n",
       "29            0.000023  \n",
       "..                 ...  \n",
       "118           0.000013  \n",
       "119           0.000013  \n",
       "120           0.000013  \n",
       "121           0.000013  \n",
       "122           0.000013  \n",
       "123           0.000013  \n",
       "124           0.000013  \n",
       "125           0.000013  \n",
       "126           0.000014  \n",
       "127           0.000013  \n",
       "128           0.000013  \n",
       "129           0.000014  \n",
       "130           0.000014  \n",
       "131           0.000014  \n",
       "132           0.000014  \n",
       "133           0.000014  \n",
       "134           0.000014  \n",
       "135           0.000014  \n",
       "136           0.000014  \n",
       "137           0.000014  \n",
       "138           0.000014  \n",
       "139           0.000014  \n",
       "140           0.000014  \n",
       "141           0.000014  \n",
       "142           0.000014  \n",
       "143           0.000014  \n",
       "144           0.000014  \n",
       "145           0.000014  \n",
       "146           0.000014  \n",
       "147           0.000014  \n",
       "\n",
       "[148 rows x 4 columns]"
      ]
     },
     "execution_count": 40,
     "metadata": {},
     "output_type": "execute_result"
    }
   ],
   "source": [
    "cv_result"
   ]
  },
  {
   "cell_type": "code",
   "execution_count": 41,
   "metadata": {},
   "outputs": [
    {
     "name": "stdout",
     "output_type": "stream",
     "text": [
      "('Best n_estimators:', 148)\n"
     ]
    }
   ],
   "source": [
    "#最佳参数n_estimators\n",
    "n_estimators = cv_result.shape[0]\n",
    "print(\"Best n_estimators:\", n_estimators)\n",
    "    \n",
    "# 采用交叉验证得到的最佳参数n_estimators，训练模型\n",
    "bst = xgb.train(param, dtrain, n_estimators)"
   ]
  },
  {
   "cell_type": "code",
   "execution_count": 14,
   "metadata": {},
   "outputs": [
    {
     "data": {
      "image/png": "[encoded data removed]",
      "text/plain": [
       "<matplotlib.figure.Figure at 0x113d085d0>"
      ]
     },
     "metadata": {},
     "output_type": "display_data"
    }
   ],
   "source": [
    "# plot\n",
    "test_means = cv_result['test-logloss-mean']\n",
    "test_stds = cv_result['test-logloss-std'] \n",
    "\n",
    "x_axis = range(0, cv_result.shape[0])\n",
    "        \n",
    "pyplot.errorbar(x_axis, test_means, yerr=test_stds ,label='Test')\n",
    "\n",
    "pyplot.title(\"XGBoost n_estimators vs Log Loss\")\n",
    "pyplot.xlabel( 'n_estimators' )\n",
    "pyplot.ylabel( 'Log Loss' )\n",
    "\n",
    "pyplot.show()"
   ]
  },
  {
   "cell_type": "code",
   "execution_count": 15,
   "metadata": {},
   "outputs": [
    {
     "name": "stdout",
     "output_type": "stream",
     "text": [
      "Test Accuracy: 100.00%\n"
     ]
    }
   ],
   "source": [
    "# make prediction\n",
    "preds = bst.predict(dtest)\n",
    "y_pred = [round(value) for value in preds]\n",
    "y_test = dtest.get_label()\n",
    "test_accuracy = accuracy_score(y_test, y_pred)\n",
    "print(\"Test Accuracy: %.2f%%\" % (test_accuracy * 100.0))"
   ]
  },
  {
   "cell_type": "markdown",
   "metadata": {},
   "source": [
    "### 使用XGBoost内嵌的函数，按特征重要性排序"
   ]
  },
  {
   "cell_type": "code",
   "execution_count": 16,
   "metadata": {},
   "outputs": [
    {
     "data": {
      "image/png": "[encoded data removed]",
      "text/plain": [
       "<matplotlib.figure.Figure at 0x113ceff50>"
      ]
     },
     "metadata": {},
     "output_type": "display_data"
    }
   ],
   "source": [
    "# plot feature importance using built-in function\n",
    "from xgboost import plot_importance\n",
    "plot_importance(bst)\n",
    "pyplot.show()"
   ]
  },
  {
   "cell_type": "code",
   "execution_count": null,
   "metadata": {
    "collapsed": true
   },
   "outputs": [],
   "source": []
  }
 ],
 "metadata": {
  "kernelspec": {
   "display_name": "Python 2",
   "language": "python",
   "name": "python2"
  },
  "language_info": {
   "codemirror_mode": {
    "name": "ipython",
    "version": 2
   },
   "file_extension": ".py",
   "mimetype": "text/x-python",
   "name": "python",
   "nbconvert_exporter": "python",
   "pygments_lexer": "ipython2",
   "version": "2.7.14"
  }
 },
 "nbformat": 4,
 "nbformat_minor": 2
}
