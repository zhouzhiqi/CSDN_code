{
 "cells": [
  {
   "cell_type": "markdown",
   "metadata": {
    "toc": true
   },
   "source": [
    "<h1>Table of Contents<span class=\"tocSkip\"></span></h1>\n",
    "<div class=\"toc\"><ul class=\"toc-item\"><li><span><a href=\"#回归分析\" data-toc-modified-id=\"回归分析-1\"><span class=\"toc-item-num\">1&nbsp;&nbsp;</span>回归分析</a></span><ul class=\"toc-item\"><li><span><a href=\"#导入工具包与数据\" data-toc-modified-id=\"导入工具包与数据-1.1\"><span class=\"toc-item-num\">1.1&nbsp;&nbsp;</span>导入工具包与数据</a></span></li><li><span><a href=\"#数据预处理\" data-toc-modified-id=\"数据预处理-1.2\"><span class=\"toc-item-num\">1.2&nbsp;&nbsp;</span>数据预处理</a></span></li><li><span><a href=\"#数据标准化\" data-toc-modified-id=\"数据标准化-1.3\"><span class=\"toc-item-num\">1.3&nbsp;&nbsp;</span>数据标准化</a></span></li><li><span><a href=\"#模型选择\" data-toc-modified-id=\"模型选择-1.4\"><span class=\"toc-item-num\">1.4&nbsp;&nbsp;</span>模型选择</a></span><ul class=\"toc-item\"><li><span><a href=\"#LinearRegression\" data-toc-modified-id=\"LinearRegression-1.4.1\"><span class=\"toc-item-num\">1.4.1&nbsp;&nbsp;</span>LinearRegression</a></span></li><li><span><a href=\"#SGDRegressor\" data-toc-modified-id=\"SGDRegressor-1.4.2\"><span class=\"toc-item-num\">1.4.2&nbsp;&nbsp;</span>SGDRegressor</a></span></li><li><span><a href=\"#RidgeCV\" data-toc-modified-id=\"RidgeCV-1.4.3\"><span class=\"toc-item-num\">1.4.3&nbsp;&nbsp;</span>RidgeCV</a></span></li><li><span><a href=\"#LassoCV\" data-toc-modified-id=\"LassoCV-1.4.4\"><span class=\"toc-item-num\">1.4.4&nbsp;&nbsp;</span>LassoCV</a></span></li></ul></li><li><span><a href=\"#总结分析\" data-toc-modified-id=\"总结分析-1.5\"><span class=\"toc-item-num\">1.5&nbsp;&nbsp;</span>总结分析</a></span></li><li><span><a href=\"#尝试PCA\" data-toc-modified-id=\"尝试PCA-1.6\"><span class=\"toc-item-num\">1.6&nbsp;&nbsp;</span>尝试PCA</a></span></li><li><span><a href=\"#测试生成提交文件\" data-toc-modified-id=\"测试生成提交文件-1.7\"><span class=\"toc-item-num\">1.7&nbsp;&nbsp;</span>测试生成提交文件</a></span></li></ul></li></ul></div>"
   ]
  },
  {
   "cell_type": "markdown",
   "metadata": {
    "_cell_guid": "0b9ffbb2-8d33-eb0c-5a42-0733bdc3b74b",
    "_uuid": "e14f65723f5ac826104e861c45e58525740d8b2a"
   },
   "source": [
    "# 回归分析\n",
    "\n",
    "Ames房价预测是Kaggle平台上的一个竞赛任务，需要根据房屋的特征来预测亚美尼亚州洛瓦市（Ames，Lowa）的房价。其中房屋的特征x共有79维，响应值y为每个房屋的销售价格（SalePrice）。\n",
    "\n",
    "Kaggle官网上的任务说明请见：\n",
    "https://www.kaggle.com/c/house-prices-advanced-regression-techniques\n",
    "\n",
    "由于房屋的属性较多，且房屋属性类型各异，所以先对原数据集进行特征编码。特征工程过程请见AmesHouse_FE.ipynb\n",
    "\n",
    "\n",
    "本代码直接在编码后的数据集上进行线性回归及其各种正则算法进行验证。\n",
    "\n",
    "Kaggle平台上kernel区有各个竞赛参数者分享的代码，大家可以学习。\n",
    "下面的代码也参考了很多不同选手分享的代码，在此一并致谢。"
   ]
  },
  {
   "cell_type": "markdown",
   "metadata": {},
   "source": [
    "## 导入工具包与数据"
   ]
  },
  {
   "cell_type": "code",
   "execution_count": 4,
   "metadata": {
    "ExecuteTime": {
     "end_time": "2018-03-02T02:37:31.854796Z",
     "start_time": "2018-03-02T02:37:31.844789Z"
    },
    "_cell_guid": "2ba3154a-c2aa-3158-1984-63ad2c0c786a",
    "_uuid": "5eb696b95780825e94ddb49787f9fa339fc3833b"
   },
   "outputs": [],
   "source": [
    "# 导入必要的工具包\n",
    "# 数据读取及基本处理\n",
    "import pandas as pd\n",
    "import numpy as np\n",
    "\n",
    "#模型\n",
    "from sklearn.linear_model import LinearRegression, RidgeCV, LassoCV, ElasticNetCV\n",
    "\n",
    "#模型评估\n",
    "from sklearn.metrics import mean_squared_error\n",
    "\n",
    "#可视化\n",
    "import matplotlib.pyplot as plt"
   ]
  },
  {
   "cell_type": "code",
   "execution_count": 40,
   "metadata": {
    "ExecuteTime": {
     "end_time": "2018-03-02T03:31:44.511394Z",
     "start_time": "2018-03-02T03:31:44.226995Z"
    },
    "_cell_guid": "21fa35be-878b-b4f2-ef6e-68dc070b8bfa",
    "_uuid": "73aee228226be55c0c8a6e4fcbf818c56cd94926"
   },
   "outputs": [
    {
     "name": "stdout",
     "output_type": "stream",
     "text": [
      "train : (1455, 344)\n",
      "test : (1459, 344)\n"
     ]
    }
   ],
   "source": [
    "# 读入进行特征工程之后的数据\n",
    "dpath='E:/AI/00/data/AmesHouse/'\n",
    "\n",
    "train = pd.read_csv(dpath+\"AmesHouse_FE_train.csv\")\n",
    "print(\"train : \" + str(train.shape))\n",
    "\n",
    "test = pd.read_csv(dpath+\"AmesHouse_FE_test.csv\")\n",
    "print(\"test : \" + str(test.shape))"
   ]
  },
  {
   "cell_type": "code",
   "execution_count": 6,
   "metadata": {
    "ExecuteTime": {
     "end_time": "2018-03-02T02:37:32.195031Z",
     "start_time": "2018-03-02T02:37:32.163511Z"
    }
   },
   "outputs": [
    {
     "data": {
      "text/html": [
       "<div>\n",
       "<style>\n",
       "    .dataframe thead tr:only-child th {\n",
       "        text-align: right;\n",
       "    }\n",
       "\n",
       "    .dataframe thead th {\n",
       "        text-align: left;\n",
       "    }\n",
       "\n",
       "    .dataframe tbody tr th {\n",
       "        vertical-align: top;\n",
       "    }\n",
       "</style>\n",
       "<table border=\"1\" class=\"dataframe\">\n",
       "  <thead>\n",
       "    <tr style=\"text-align: right;\">\n",
       "      <th></th>\n",
       "      <th>0</th>\n",
       "      <th>1</th>\n",
       "      <th>2</th>\n",
       "      <th>3</th>\n",
       "      <th>4</th>\n",
       "      <th>5</th>\n",
       "      <th>6</th>\n",
       "      <th>7</th>\n",
       "      <th>8</th>\n",
       "      <th>9</th>\n",
       "      <th>...</th>\n",
       "      <th>334</th>\n",
       "      <th>335</th>\n",
       "      <th>336</th>\n",
       "      <th>337</th>\n",
       "      <th>338</th>\n",
       "      <th>339</th>\n",
       "      <th>340</th>\n",
       "      <th>341</th>\n",
       "      <th>342</th>\n",
       "      <th>SalePrice</th>\n",
       "    </tr>\n",
       "  </thead>\n",
       "  <tbody>\n",
       "    <tr>\n",
       "      <th>0</th>\n",
       "      <td>0.227740</td>\n",
       "      <td>-0.202751</td>\n",
       "      <td>0.064349</td>\n",
       "      <td>-0.243467</td>\n",
       "      <td>0.701076</td>\n",
       "      <td>0.026225</td>\n",
       "      <td>0.226123</td>\n",
       "      <td>1.252423</td>\n",
       "      <td>-0.419403</td>\n",
       "      <td>1.054681</td>\n",
       "      <td>...</td>\n",
       "      <td>1</td>\n",
       "      <td>1</td>\n",
       "      <td>1</td>\n",
       "      <td>1</td>\n",
       "      <td>1</td>\n",
       "      <td>1</td>\n",
       "      <td>1</td>\n",
       "      <td>1</td>\n",
       "      <td>1</td>\n",
       "      <td>208500</td>\n",
       "    </tr>\n",
       "    <tr>\n",
       "      <th>1</th>\n",
       "      <td>0.670541</td>\n",
       "      <td>-0.086127</td>\n",
       "      <td>0.064349</td>\n",
       "      <td>-0.243467</td>\n",
       "      <td>0.701076</td>\n",
       "      <td>0.026225</td>\n",
       "      <td>0.226123</td>\n",
       "      <td>-0.694453</td>\n",
       "      <td>1.857579</td>\n",
       "      <td>0.160280</td>\n",
       "      <td>...</td>\n",
       "      <td>1</td>\n",
       "      <td>1</td>\n",
       "      <td>1</td>\n",
       "      <td>1</td>\n",
       "      <td>1</td>\n",
       "      <td>1</td>\n",
       "      <td>1</td>\n",
       "      <td>1</td>\n",
       "      <td>1</td>\n",
       "      <td>181500</td>\n",
       "    </tr>\n",
       "    <tr>\n",
       "      <th>2</th>\n",
       "      <td>0.316301</td>\n",
       "      <td>0.081203</td>\n",
       "      <td>0.064349</td>\n",
       "      <td>-0.243467</td>\n",
       "      <td>-1.027848</td>\n",
       "      <td>0.026225</td>\n",
       "      <td>0.226123</td>\n",
       "      <td>1.252423</td>\n",
       "      <td>-0.419403</td>\n",
       "      <td>0.988429</td>\n",
       "      <td>...</td>\n",
       "      <td>1</td>\n",
       "      <td>1</td>\n",
       "      <td>1</td>\n",
       "      <td>1</td>\n",
       "      <td>1</td>\n",
       "      <td>1</td>\n",
       "      <td>1</td>\n",
       "      <td>1</td>\n",
       "      <td>1</td>\n",
       "      <td>223500</td>\n",
       "    </tr>\n",
       "    <tr>\n",
       "      <th>3</th>\n",
       "      <td>0.080140</td>\n",
       "      <td>-0.091197</td>\n",
       "      <td>0.064349</td>\n",
       "      <td>-0.243467</td>\n",
       "      <td>-1.027848</td>\n",
       "      <td>0.026225</td>\n",
       "      <td>0.226123</td>\n",
       "      <td>1.252423</td>\n",
       "      <td>-0.419403</td>\n",
       "      <td>-1.860405</td>\n",
       "      <td>...</td>\n",
       "      <td>1</td>\n",
       "      <td>1</td>\n",
       "      <td>1</td>\n",
       "      <td>1</td>\n",
       "      <td>1</td>\n",
       "      <td>1</td>\n",
       "      <td>1</td>\n",
       "      <td>1</td>\n",
       "      <td>1</td>\n",
       "      <td>140000</td>\n",
       "    </tr>\n",
       "    <tr>\n",
       "      <th>4</th>\n",
       "      <td>0.788621</td>\n",
       "      <td>0.386454</td>\n",
       "      <td>0.064349</td>\n",
       "      <td>-0.243467</td>\n",
       "      <td>-1.027848</td>\n",
       "      <td>0.026225</td>\n",
       "      <td>0.226123</td>\n",
       "      <td>1.252423</td>\n",
       "      <td>-0.419403</td>\n",
       "      <td>0.955303</td>\n",
       "      <td>...</td>\n",
       "      <td>1</td>\n",
       "      <td>1</td>\n",
       "      <td>1</td>\n",
       "      <td>1</td>\n",
       "      <td>1</td>\n",
       "      <td>1</td>\n",
       "      <td>1</td>\n",
       "      <td>1</td>\n",
       "      <td>1</td>\n",
       "      <td>250000</td>\n",
       "    </tr>\n",
       "  </tbody>\n",
       "</table>\n",
       "<p>5 rows × 344 columns</p>\n",
       "</div>"
      ],
      "text/plain": [
       "          0         1         2         3         4         5         6  \\\n",
       "0  0.227740 -0.202751  0.064349 -0.243467  0.701076  0.026225  0.226123   \n",
       "1  0.670541 -0.086127  0.064349 -0.243467  0.701076  0.026225  0.226123   \n",
       "2  0.316301  0.081203  0.064349 -0.243467 -1.027848  0.026225  0.226123   \n",
       "3  0.080140 -0.091197  0.064349 -0.243467 -1.027848  0.026225  0.226123   \n",
       "4  0.788621  0.386454  0.064349 -0.243467 -1.027848  0.026225  0.226123   \n",
       "\n",
       "          7         8         9    ...      334  335  336  337  338  339  340  \\\n",
       "0  1.252423 -0.419403  1.054681    ...        1    1    1    1    1    1    1   \n",
       "1 -0.694453  1.857579  0.160280    ...        1    1    1    1    1    1    1   \n",
       "2  1.252423 -0.419403  0.988429    ...        1    1    1    1    1    1    1   \n",
       "3  1.252423 -0.419403 -1.860405    ...        1    1    1    1    1    1    1   \n",
       "4  1.252423 -0.419403  0.955303    ...        1    1    1    1    1    1    1   \n",
       "\n",
       "   341  342  SalePrice  \n",
       "0    1    1     208500  \n",
       "1    1    1     181500  \n",
       "2    1    1     223500  \n",
       "3    1    1     140000  \n",
       "4    1    1     250000  \n",
       "\n",
       "[5 rows x 344 columns]"
      ]
     },
     "execution_count": 6,
     "metadata": {},
     "output_type": "execute_result"
    }
   ],
   "source": [
    "train.head()"
   ]
  },
  {
   "cell_type": "markdown",
   "metadata": {
    "_cell_guid": "a1ae46d1-8787-67a3-2f69-6497c97320eb",
    "_uuid": "16fa6600f9877c9607060f9e50de6eaa9bc1c766"
   },
   "source": [
    "## 数据预处理"
   ]
  },
  {
   "cell_type": "code",
   "execution_count": 41,
   "metadata": {
    "ExecuteTime": {
     "end_time": "2018-03-02T03:31:50.456470Z",
     "start_time": "2018-03-02T03:31:50.441953Z"
    },
    "_cell_guid": "3685f20a-c332-7ab0-cced-03d639d28833",
    "_uuid": "39e8e6e7fa4b7f6e628be0bd6aa3b859cd624d2c"
   },
   "outputs": [],
   "source": [
    "y_train = train[\"SalePrice\"]\n",
    "X_train = train.drop(['SalePrice'], axis = 1)\n",
    "\n",
    "test_Id = test['Id'] #训练集Id已经舍弃\n",
    "#测试集Id暂时不用，存起来，提交时再用\n",
    "X_test = test.drop(['Id'], axis = 1)"
   ]
  },
  {
   "cell_type": "markdown",
   "metadata": {},
   "source": [
    "## 数据标准化"
   ]
  },
  {
   "cell_type": "code",
   "execution_count": 42,
   "metadata": {
    "ExecuteTime": {
     "end_time": "2018-03-02T03:31:51.561549Z",
     "start_time": "2018-03-02T03:31:51.550537Z"
    },
    "_cell_guid": "1279ec22-61c2-4d5a-b8da-9dcadbda564d",
    "_uuid": "761f87586c85dde9e74331557080d2278b7b4044"
   },
   "outputs": [],
   "source": [
    "\n",
    "from sklearn.preprocessing import StandardScaler\n",
    "\n",
    "# 初始化对目标值的标准化器\n",
    "# 对y标准化不是必须，但对其进行标准化可以使得不同问题w的取值范围相对相同\n",
    "\n",
    "#自己实现试试...,这些参数需要保留，对测试集预测完后还需要对其进行反变换\n",
    "mean_y = y_train.mean()\n",
    "std_y = y_train.std()\n",
    "y_train = (y_train - mean_y)/std_y\n",
    "\n",
    "#ss_y = StandardScaler()\n",
    "#y_train = ss_y.fit_transform(y_train.values.reshape(-1, 1))\n",
    "#y_test = ss_y.transform(y_test.reshape(-1, 1))"
   ]
  },
  {
   "cell_type": "markdown",
   "metadata": {},
   "source": [
    "## 模型选择"
   ]
  },
  {
   "cell_type": "markdown",
   "metadata": {},
   "source": [
    "### LinearRegression"
   ]
  },
  {
   "cell_type": "markdown",
   "metadata": {
    "_cell_guid": "9fe1c63e-3803-feac-362c-631399fdb8ec",
    "_uuid": "431749cca6d8fbbc2d1d3732baeb6d63590c6e2e"
   },
   "source": [
    "**1* Linear Regression without regularization**\n",
    "最小二乘线性回归\n",
    "最小二乘没有超参数需要调优，直接用全体训练数据训练模型"
   ]
  },
  {
   "cell_type": "code",
   "execution_count": 9,
   "metadata": {
    "ExecuteTime": {
     "end_time": "2018-03-02T02:37:32.338127Z",
     "start_time": "2018-03-02T02:37:32.232057Z"
    },
    "_cell_guid": "101cf15a-9006-ac9a-8abe-756371fd8b1a",
    "_uuid": "38562579d6306877a067189f25ce15ececbe99d2"
   },
   "outputs": [
    {
     "name": "stdout",
     "output_type": "stream",
     "text": [
      "RMSE on Training set : 0.249426397415\n"
     ]
    }
   ],
   "source": [
    "# Linear Regression\n",
    "# 1. 生成学习器实例\n",
    "lr = LinearRegression()\n",
    "\n",
    "#2. 在训练集上训练学习器\n",
    "lr.fit(X_train, y_train)\n",
    "\n",
    "#3.训练上测试，得到训练误差，实际任务中这一步不需要\n",
    "# Look at predictions on training and validation set\n",
    "y_train_pred = lr.predict(X_train)\n",
    "#y_test_pred = lr.predict(X_test)\n",
    "\n",
    "rmse_train = np.sqrt(mean_squared_error(y_train,y_train_pred))\n",
    "#rmse_test = np.sqrt(mean_squared_error(y_test,y_test_pred))\n",
    "\n",
    "print(\"RMSE on Training set :\", rmse_train)\n",
    "#print(\"RMSE on Test set :\", rmse_test)"
   ]
  },
  {
   "cell_type": "markdown",
   "metadata": {},
   "source": [
    "### SGDRegressor"
   ]
  },
  {
   "cell_type": "code",
   "execution_count": 10,
   "metadata": {
    "ExecuteTime": {
     "end_time": "2018-03-02T02:37:41.017276Z",
     "start_time": "2018-03-02T02:37:32.341129Z"
    },
    "scrolled": true
   },
   "outputs": [
    {
     "name": "stdout",
     "output_type": "stream",
     "text": [
      "RMSE on Training set : 0.256567465147\n"
     ]
    }
   ],
   "source": [
    "# 线性模型，随机梯度下降优化模型参数\n",
    "from sklearn.linear_model import SGDRegressor\n",
    "\n",
    "# 使用默认配置初始化线\n",
    "# 1.生成学习器实例 \n",
    "sgdr = SGDRegressor(max_iter = 5000)\n",
    "\n",
    "# 2. 用训练数据训练模型，得到模型参数\n",
    "sgdr.fit(X_train, y_train)\n",
    "\n",
    "# 3. 预测\n",
    "y_train_pred = sgdr.predict(X_train)\n",
    "#y_test_pred = sgdr.predict(X_test)\n",
    "\n",
    "rmse_train = np.sqrt(mean_squared_error(y_train,y_train_pred))\n",
    "#rmse_test = np.sqrt(mean_squared_error(y_test,y_test_pred))\n",
    "\n",
    "print(\"RMSE on Training set :\", rmse_train)"
   ]
  },
  {
   "cell_type": "markdown",
   "metadata": {},
   "source": [
    "该数据集样本数较少，不适合用随机梯度下降方法求解。在训练集上的效果比最小二乘解析求解效果稍差"
   ]
  },
  {
   "cell_type": "markdown",
   "metadata": {},
   "source": [
    "### RidgeCV"
   ]
  },
  {
   "cell_type": "markdown",
   "metadata": {
    "_cell_guid": "a70803d8-638c-bdfa-6897-aed8ce78f475",
    "_uuid": "2938aee78a9f61d6ca59345d6fa0793e2422f34c"
   },
   "source": [
    "**2* Linear Regression with Ridge regularization (L2 penalty)**"
   ]
  },
  {
   "cell_type": "code",
   "execution_count": 11,
   "metadata": {
    "ExecuteTime": {
     "end_time": "2018-03-02T02:37:41.235484Z",
     "start_time": "2018-03-02T02:37:41.020614Z"
    }
   },
   "outputs": [
    {
     "name": "stdout",
     "output_type": "stream",
     "text": [
      "Best alpha : 10.0\n",
      "cv of rmse : 0.318990077474\n",
      "RMSE on Training set : 0.268257352501\n"
     ]
    }
   ],
   "source": [
    "#RidgeCV缺省的score是mean squared errors \n",
    "# 1. 生成学习器实例\n",
    "# RidgeCV(alphas=(0.1, 1.0, 10.0), fit_intercept=True, normalize=False, scoring=None, cv=None, gcv_mode=None, store_cv_values=False)\n",
    "ridge = RidgeCV(alphas = [0.01, 0.1, 1, 10, 100, 1000],store_cv_values=True )\n",
    "\n",
    "# 2. 用训练数据度模型进行训练\n",
    "# RidgeCV采用的是广义交叉验证（Generalized Cross-Validation），留一交叉验证（N-折交叉验证）的一种有效实现方式\n",
    "ridge.fit(X_train, y_train)\n",
    "\n",
    "#通过交叉验证得到的最佳超参数alpha\n",
    "alpha = ridge.alpha_\n",
    "print(\"Best alpha :\", alpha)\n",
    "\n",
    "# 交叉验证估计的测试误差\n",
    "mse_cv = np.mean(ridge.cv_values_, axis = 0)\n",
    "rmse_cv = np.sqrt(mse_cv)\n",
    "print(\"cv of rmse :\", min(rmse_cv))\n",
    "\n",
    "#训练上测试，训练误差，实际任务中这一步不需要\n",
    "y_train_rdg = ridge.predict(X_train)\n",
    "rmse_train = np.sqrt(mean_squared_error(y_train,y_train_rdg))\n",
    "print(\"RMSE on Training set :\", rmse_train)"
   ]
  },
  {
   "cell_type": "code",
   "execution_count": 12,
   "metadata": {
    "ExecuteTime": {
     "end_time": "2018-03-02T02:37:41.874810Z",
     "start_time": "2018-03-02T02:37:41.237983Z"
    },
    "_cell_guid": "1fb3f0d6-a070-9ce5-7cc3-01a7e26faa4f",
    "_uuid": "659084128a0ef75a5936912a5f64134774b29664"
   },
   "outputs": [
    {
     "name": "stdout",
     "output_type": "stream",
     "text": [
      "Try again for more precision with alphas centered around 10.0\n",
      "Best alpha : 12.5\n",
      "cv of rmse : 0.318937836639\n",
      "RMSE on Training set : 0.270044907021\n",
      "Ridge picked 296 features and eliminated the other 47 features\n"
     ]
    },
    {
     "data": {
      "image/png": "[encoded data removed]",
      "text/plain": [
       "<matplotlib.figure.Figure at 0x1d66a9aa278>"
      ]
     },
     "metadata": {},
     "output_type": "display_data"
    }
   ],
   "source": [
    "#作业这一步不是必须\n",
    "print(\"Try again for more precision with alphas centered around \" + str(alpha))\n",
    "ridge = RidgeCV(alphas = [alpha * .6, alpha * .65, alpha * .7, alpha * .75, alpha * .8, alpha * .85, \n",
    "                          alpha * .9, alpha * .95, alpha, alpha * 1.05, alpha * 1.1, alpha * 1.15,\n",
    "                          alpha * 1.25, alpha * 1.3, alpha * 1.35, alpha * 1.4], \n",
    "                store_cv_values=True)\n",
    "ridge.fit(X_train, y_train)\n",
    "alpha = ridge.alpha_\n",
    "print(\"Best alpha :\", alpha)\n",
    "\n",
    "mse_cv = np.mean(ridge.cv_values_, axis = 0)\n",
    "rmse_cv = np.sqrt(mse_cv)\n",
    "print(\"cv of rmse :\", min(rmse_cv))\n",
    "\n",
    "y_train_rdg = ridge.predict(X_train)\n",
    "rmse_train = np.sqrt(mean_squared_error(y_train,y_train_rdg))\n",
    "print(\"RMSE on Training set :\", rmse_train)\n",
    "\n",
    "\n",
    "# Plot important coefficients\n",
    "coefs = pd.Series(ridge.coef_, index = X_train.columns)\n",
    "print(\"Ridge picked \" + str(sum(coefs != 0)) + \" features and eliminated the other \" +  \\\n",
    "      str(sum(coefs == 0)) + \" features\")\n",
    "\n",
    "#正系数值最大的10个特征和负系数值最小（绝对值大）的10个特征\n",
    "imp_coefs = pd.concat([coefs.sort_values().head(10),\n",
    "                     coefs.sort_values().tail(10)])\n",
    "imp_coefs.plot(kind = \"barh\")\n",
    "plt.title(\"Coefficients in the Ridge Model\")\n",
    "plt.show()"
   ]
  },
  {
   "cell_type": "markdown",
   "metadata": {},
   "source": [
    "### LassoCV"
   ]
  },
  {
   "cell_type": "markdown",
   "metadata": {
    "_cell_guid": "2da33461-fb1a-c09a-b0fe-d20e8c8f52e3",
    "_uuid": "d2e8bab153344d6ecf2e48909b76bd8f387e2710"
   },
   "source": [
    "**3* Linear Regression with Lasso regularization (L1 penalty)**"
   ]
  },
  {
   "cell_type": "code",
   "execution_count": 19,
   "metadata": {
    "ExecuteTime": {
     "end_time": "2018-03-02T02:59:19.772811Z",
     "start_time": "2018-03-02T02:59:17.176381Z"
    }
   },
   "outputs": [
    {
     "name": "stderr",
     "output_type": "stream",
     "text": [
      "C:\\ProgramData\\Anaconda3\\lib\\site-packages\\sklearn\\linear_model\\coordinate_descent.py:491: ConvergenceWarning: Objective did not converge. You might want to increase the number of iterations. Fitting data with very small alpha may cause precision problems.\n",
      "  ConvergenceWarning)\n"
     ]
    },
    {
     "name": "stdout",
     "output_type": "stream",
     "text": [
      "Best alpha : 0.001\n",
      "cv of rmse : 0.723882736658\n",
      "RMSE on Training set : 0.27457236188\n"
     ]
    }
   ],
   "source": [
    "# 3* Lasso\n",
    "# 1. 生成学习器实例\n",
    "lasso = LassoCV(alphas = [0.0001, 0.001, 0.01, 0.1, 1, 10, 100, 1000], \n",
    "                max_iter = 5000)\n",
    "\n",
    "\n",
    "# 2. 用训练数据度模型进行训练\n",
    "lasso.fit(X_train, y_train)\n",
    "\n",
    "#通过交叉验证得到的最佳超参数alpha\n",
    "alpha = lasso.alpha_\n",
    "print(\"Best alpha :\", alpha)\n",
    "\n",
    "\n",
    "# 交叉验证估计的测试误差\n",
    "mse_cv = np.mean(lasso.mse_path_, axis = 0)\n",
    "rmse_cv = np.sqrt(mse_cv)\n",
    "print(\"cv of rmse :\", min(rmse_cv))\n",
    "\n",
    "#训练上测试，训练误差，实际任务中这一步不需要\n",
    "y_train_las = lasso.predict(X_train)\n",
    "rmse_train = np.sqrt(mean_squared_error(y_train,y_train_las))\n",
    "print(\"RMSE on Training set :\", rmse_train)"
   ]
  },
  {
   "cell_type": "code",
   "execution_count": 20,
   "metadata": {
    "ExecuteTime": {
     "end_time": "2018-03-02T02:59:34.056632Z",
     "start_time": "2018-03-02T02:59:27.928796Z"
    },
    "_cell_guid": "8525724a-fb77-66d4-e06f-f3365fbd8ec3",
    "_uuid": "f8f41944e405693ba867158353ffedcd9ecd4a07",
    "scrolled": false
   },
   "outputs": [
    {
     "name": "stdout",
     "output_type": "stream",
     "text": [
      "Try again for more precision with alphas centered around 0.001\n",
      "Best alpha : 0.00105\n",
      "cv of rmse : 0.283063195045\n",
      "RMSE on Training set : 0.275313712818\n",
      "Lasso picked 130 features and eliminated the other 213 features\n"
     ]
    },
    {
     "data": {
      "image/png": "[encoded data removed]",
      "text/plain": [
       "<matplotlib.figure.Figure at 0x1d66bc2d7b8>"
      ]
     },
     "metadata": {},
     "output_type": "display_data"
    }
   ],
   "source": [
    "print(\"Try again for more precision with alphas centered around \" + str(alpha))\n",
    "lasso = LassoCV(alphas = [alpha * .6, alpha * .65, alpha * .7, alpha * .75, alpha * .8, \n",
    "                          alpha * .85, alpha * .9, alpha * .95, alpha, alpha * 1.05, \n",
    "                          alpha * 1.1, alpha * 1.15, alpha * 1.25, alpha * 1.3, alpha * 1.35, \n",
    "                          alpha * 1.4], \n",
    "                max_iter = 50000, cv = 10)\n",
    "lasso.fit(X_train, y_train)\n",
    "alpha = lasso.alpha_\n",
    "print(\"Best alpha :\", alpha)\n",
    "\n",
    "mse_cv = np.mean(lasso.mse_path_, axis = 0)\n",
    "rmse_cv = np.sqrt(mse_cv)\n",
    "print(\"cv of rmse :\", min(rmse_cv))\n",
    "\n",
    "y_train_lasso = lasso.predict(X_train)\n",
    "rmse_train = np.sqrt(mean_squared_error(y_train,y_train_lasso))\n",
    "print(\"RMSE on Training set :\", rmse_train)\n",
    "\n",
    "# Plot important coefficients\n",
    "coefs = pd.Series(lasso.coef_, index = X_train.columns)\n",
    "print(\"Lasso picked \" + str(sum(coefs != 0)) + \" features and eliminated the other \" +  \\\n",
    "      str(sum(coefs == 0)) + \" features\")\n",
    "imp_coefs = pd.concat([coefs.sort_values().head(10),\n",
    "                     coefs.sort_values().tail(10)])\n",
    "imp_coefs.plot(kind = \"barh\")\n",
    "plt.title(\"Coefficients in the Lasso Model\")\n",
    "plt.show()"
   ]
  },
  {
   "cell_type": "markdown",
   "metadata": {},
   "source": [
    "## 总结分析"
   ]
  },
  {
   "cell_type": "markdown",
   "metadata": {},
   "source": [
    "模型 | Lasso | Ridge | SGDRegressor | LinearRegression\n",
    "- | - | - | - | -\n",
    "RMSE| 0.27457236188| 0.268257352501| 0.256567465147 | 0.249426397415"
   ]
  },
  {
   "cell_type": "markdown",
   "metadata": {},
   "source": [
    "默认的LinearRegression的RMSE=0.249426397415 ,是最好的"
   ]
  },
  {
   "cell_type": "markdown",
   "metadata": {},
   "source": [
    "## 尝试PCA"
   ]
  },
  {
   "cell_type": "code",
   "execution_count": 47,
   "metadata": {
    "ExecuteTime": {
     "end_time": "2018-03-02T03:35:52.781937Z",
     "start_time": "2018-03-02T03:35:52.748904Z"
    }
   },
   "outputs": [],
   "source": [
    "# 一个参数点（PCA维数为n）的模型训练和测试，得到该参数下模型在校验集上的预测性能\n",
    "import time\n",
    "from sklearn.decomposition import PCA\n",
    "\n",
    "def n_component_analysis(n, X_train, y_train):\n",
    "\n",
    "    start = time.time()\n",
    "    \n",
    "    pca = PCA(n_components=n)\n",
    "    print(\"PCA begin with n_components: {}\".format(n));\n",
    "    pca.fit(X_train)\n",
    "    \n",
    "    # 在训练集和测试集降维 \n",
    "    X_train_pca = pca.transform(X_train)\n",
    "    \n",
    "    # 利用LinearRegression训练\n",
    "    print('LinearRegression begin')\n",
    "    LR1 = LinearRegression()\n",
    "    LR1.fit(X_train_pca, y_train)\n",
    "    \n",
    "    # 返回RMSE\n",
    "    y_train_las = LR1.predict(X_train_pca)\n",
    "    rmse_train = np.sqrt(mean_squared_error(y_train,y_train_las))\n",
    "    \n",
    "    end = time.time()\n",
    "    print(\"rmse_train: {}, time elaps:{}\".format(rmse_train, int(end-start)))\n",
    "    return rmse_train"
   ]
  },
  {
   "cell_type": "markdown",
   "metadata": {
    "ExecuteTime": {
     "end_time": "2018-03-02T03:22:52.626607Z",
     "start_time": "2018-03-02T03:22:52.616095Z"
    }
   },
   "source": [
    "#切分数据\n",
    "from sklearn.model_selection import train_test_split\n",
    "X_train_part, X_val, y_train_part, y_val = train_test_split(X_train,y_train, train_size = 0.8,random_state = 66)"
   ]
  },
  {
   "cell_type": "code",
   "execution_count": 53,
   "metadata": {
    "ExecuteTime": {
     "end_time": "2018-03-02T03:38:28.442385Z",
     "start_time": "2018-03-02T03:38:27.390597Z"
    }
   },
   "outputs": [
    {
     "name": "stdout",
     "output_type": "stream",
     "text": [
      "PCA begin with n_components: 0.7\n",
      "LinearRegression begin\n",
      "rmse_train: 0.3802613885360019, time elaps:0\n",
      "PCA begin with n_components: 0.73\n",
      "LinearRegression begin\n",
      "rmse_train: 0.372607379614641, time elaps:0\n",
      "PCA begin with n_components: 0.76\n",
      "LinearRegression begin\n",
      "rmse_train: 0.3626417410868599, time elaps:0\n",
      "PCA begin with n_components: 0.79\n",
      "LinearRegression begin\n",
      "rmse_train: 0.34998401542935603, time elaps:0\n",
      "PCA begin with n_components: 0.8200000000000001\n",
      "LinearRegression begin\n",
      "rmse_train: 0.3431976712777593, time elaps:0\n",
      "PCA begin with n_components: 0.8500000000000001\n",
      "LinearRegression begin\n",
      "rmse_train: 0.3388242892436501, time elaps:0\n",
      "PCA begin with n_components: 0.8800000000000001\n",
      "LinearRegression begin\n",
      "rmse_train: 0.33586661635244297, time elaps:0\n",
      "PCA begin with n_components: 0.9100000000000001\n",
      "LinearRegression begin\n",
      "rmse_train: 0.3315909935471277, time elaps:0\n",
      "PCA begin with n_components: 0.9400000000000002\n",
      "LinearRegression begin\n",
      "rmse_train: 0.3248752722203315, time elaps:0\n",
      "PCA begin with n_components: 0.9700000000000002\n",
      "LinearRegression begin\n",
      "rmse_train: 0.3114947278125514, time elaps:0\n"
     ]
    }
   ],
   "source": [
    "\n",
    "# 设置超参数（PCA维数）搜索范围\n",
    "n_s = np.arange(0.70,0.97,0.03)\n",
    "rmse_1 = []\n",
    "for n in n_s:\n",
    "    tmp = n_component_analysis(n, X_train.values, y_train.values)\n",
    "    rmse_1.append(tmp)"
   ]
  },
  {
   "cell_type": "code",
   "execution_count": 54,
   "metadata": {
    "ExecuteTime": {
     "end_time": "2018-03-02T03:38:32.479972Z",
     "start_time": "2018-03-02T03:38:32.368787Z"
    }
   },
   "outputs": [
    {
     "data": {
      "image/png": "[encoded data removed]",
      "text/plain": [
       "<matplotlib.figure.Figure at 0x1d66ffe1860>"
      ]
     },
     "metadata": {},
     "output_type": "display_data"
    }
   ],
   "source": [
    "plt.plot(n_s, rmse_1)\n",
    "plt.show()"
   ]
  },
  {
   "cell_type": "markdown",
   "metadata": {},
   "source": [
    "PCA降维并没有什么用处"
   ]
  },
  {
   "cell_type": "markdown",
   "metadata": {},
   "source": [
    "## 测试生成提交文件"
   ]
  },
  {
   "cell_type": "markdown",
   "metadata": {},
   "source": [
    "对测试集进行测试，生成提交文件"
   ]
  },
  {
   "cell_type": "code",
   "execution_count": 55,
   "metadata": {
    "ExecuteTime": {
     "end_time": "2018-03-02T03:39:48.288415Z",
     "start_time": "2018-03-02T03:39:48.250391Z"
    }
   },
   "outputs": [],
   "source": [
    "# 将预测值还原(标准化)\n",
    "y_test_pred = lr.predict(X_test)\n",
    "y_test_pred = y_test_pred * std_y +  mean_y\n",
    "\n",
    "#生成提交测试结果\n",
    "\n",
    "#df = pd.DataFrame({\"Id\":test_Id, 'SalePrice':y_test_pred})\n",
    "#df.reindex(columns=['Id'])\n",
    "y = pd.Series(data = y_test_pred, name = 'SalePrice') # 生成带标签的Series\n",
    "df = pd.concat([test_Id, y], axis = 1) # 与'ID' 合并\n",
    "df.to_csv('submission.csv') # 生成csv文件"
   ]
  },
  {
   "cell_type": "code",
   "execution_count": 56,
   "metadata": {
    "ExecuteTime": {
     "end_time": "2018-03-02T03:39:48.926589Z",
     "start_time": "2018-03-02T03:39:48.917078Z"
    }
   },
   "outputs": [
    {
     "name": "stdout",
     "output_type": "stream",
     "text": [
      "<class 'pandas.core.frame.DataFrame'>\n",
      "RangeIndex: 1459 entries, 0 to 1458\n",
      "Data columns (total 2 columns):\n",
      "Id           1459 non-null int64\n",
      "SalePrice    1459 non-null float64\n",
      "dtypes: float64(1), int64(1)\n",
      "memory usage: 22.9 KB\n"
     ]
    }
   ],
   "source": [
    "df.info()"
   ]
  },
  {
   "cell_type": "code",
   "execution_count": null,
   "metadata": {},
   "outputs": [],
   "source": []
  }
 ],
 "metadata": {
  "_change_revision": 0,
  "_is_fork": false,
  "kernelspec": {
   "display_name": "Python 3",
   "language": "python",
   "name": "python3"
  },
  "language_info": {
   "codemirror_mode": {
    "name": "ipython",
    "version": 3
   },
   "file_extension": ".py",
   "mimetype": "text/x-python",
   "name": "python",
   "nbconvert_exporter": "python",
   "pygments_lexer": "ipython3",
   "version": "3.6.3"
  },
  "toc": {
   "nav_menu": {},
   "number_sections": true,
   "sideBar": true,
   "skip_h1_title": false,
   "title_cell": "Table of Contents",
   "title_sidebar": "Contents",
   "toc_cell": true,
   "toc_position": {
    "height": "781px",
    "left": "0px",
    "right": "889px",
    "top": "148px",
    "width": "212px"
   },
   "toc_section_display": "block",
   "toc_window_display": true
  }
 },
 "nbformat": 4,
 "nbformat_minor": 1
}
