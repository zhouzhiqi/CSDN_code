{
 "cells": [
  {
   "cell_type": "markdown",
   "metadata": {
    "toc": true
   },
   "source": [
    "<h1>Table of Contents<span class=\"tocSkip\"></span></h1>\n",
    "<div class=\"toc\"><ul class=\"toc-item\"><li><span><a href=\"#特征工程\" data-toc-modified-id=\"特征工程-1\"><span class=\"toc-item-num\">1&nbsp;&nbsp;</span>特征工程</a></span><ul class=\"toc-item\"><li><span><a href=\"#离群点检测\" data-toc-modified-id=\"离群点检测-1.1\"><span class=\"toc-item-num\">1.1&nbsp;&nbsp;</span>离群点检测</a></span></li><li><span><a href=\"#缺失值处理\" data-toc-modified-id=\"缺失值处理-1.2\"><span class=\"toc-item-num\">1.2&nbsp;&nbsp;</span>缺失值处理</a></span></li><li><span><a href=\"#数值2字符\" data-toc-modified-id=\"数值2字符-1.3\"><span class=\"toc-item-num\">1.3&nbsp;&nbsp;</span>数值2字符</a></span></li><li><span><a href=\"#创建新特征\" data-toc-modified-id=\"创建新特征-1.4\"><span class=\"toc-item-num\">1.4&nbsp;&nbsp;</span>创建新特征</a></span></li><li><span><a href=\"#空缺值填补\" data-toc-modified-id=\"空缺值填补-1.5\"><span class=\"toc-item-num\">1.5&nbsp;&nbsp;</span>空缺值填补</a></span></li><li><span><a href=\"#one-hot编码\" data-toc-modified-id=\"one-hot编码-1.6\"><span class=\"toc-item-num\">1.6&nbsp;&nbsp;</span>one-hot编码</a></span></li><li><span><a href=\"#合并所有特征\" data-toc-modified-id=\"合并所有特征-1.7\"><span class=\"toc-item-num\">1.7&nbsp;&nbsp;</span>合并所有特征</a></span></li></ul></li></ul></div>"
   ]
  },
  {
   "cell_type": "markdown",
   "metadata": {},
   "source": [
    "# 特征工程"
   ]
  },
  {
   "cell_type": "markdown",
   "metadata": {},
   "source": [
    "导入工具包"
   ]
  },
  {
   "cell_type": "code",
   "execution_count": 1,
   "metadata": {
    "ExecuteTime": {
     "end_time": "2018-02-24T09:19:57.336678Z",
     "start_time": "2018-02-24T09:19:48.179809Z"
    }
   },
   "outputs": [],
   "source": [
    "# 数据读取及基本处理\n",
    "import pandas as pd\n",
    "import numpy as np\n",
    "\n",
    "#查看数据分布是否对称/计算斜度/是否需要log或\n",
    "from scipy.stats import skew\n",
    "\n",
    "#可视化\n",
    "import matplotlib.pyplot as plt\n",
    "import seaborn as sns\n",
    "\n",
    "from IPython.display import display\n",
    "# Definitions\n",
    "pd.set_option('display.float_format', lambda x: '%.3f' % x) #float显示三位小数 \n",
    "%matplotlib inline"
   ]
  },
  {
   "cell_type": "code",
   "execution_count": 2,
   "metadata": {
    "ExecuteTime": {
     "end_time": "2018-02-24T09:19:57.350685Z",
     "start_time": "2018-02-24T09:19:57.339677Z"
    }
   },
   "outputs": [],
   "source": [
    "# 设置一些全局的资源参数，可以进行个性化修改\n",
    "import matplotlib\n",
    "# 设置图片尺寸 14\" x 7\"\n",
    "# rc: resource configuration\n",
    "matplotlib.rc('figure', figsize = (12, 7))\n",
    "# 设置字体 14\n",
    "matplotlib.rc('font', size = 14)\n",
    "# 不显示网格\n",
    "matplotlib.rc('axes', grid = False)\n",
    "# 设置背景颜色是白色\n",
    "matplotlib.rc('axes', facecolor = 'white')"
   ]
  },
  {
   "cell_type": "code",
   "execution_count": 3,
   "metadata": {
    "ExecuteTime": {
     "end_time": "2018-02-24T09:19:57.424233Z",
     "start_time": "2018-02-24T09:19:57.353186Z"
    }
   },
   "outputs": [],
   "source": [
    "# 读入数据\n",
    "dpath = '../data/AmesHouse/'\n",
    "train = pd.read_csv(dpath + \"train.csv\")\n",
    "test = pd.read_csv(dpath + \"test.csv\")"
   ]
  },
  {
   "cell_type": "code",
   "execution_count": 4,
   "metadata": {
    "ExecuteTime": {
     "end_time": "2018-02-24T09:19:57.438262Z",
     "start_time": "2018-02-24T09:19:57.427234Z"
    }
   },
   "outputs": [],
   "source": [
    "train.drop(['Id'], inplace = True, axis = 1)  #训练集Id不用，直接舍弃\n",
    "\n",
    "test_id = test['Id']    #测试集Id暂时不用，存起来，提交时再用\n",
    "test.drop(['Id'], inplace = True, axis = 1)"
   ]
  },
  {
   "cell_type": "markdown",
   "metadata": {},
   "source": [
    "## 离群点检测"
   ]
  },
  {
   "cell_type": "code",
   "execution_count": 5,
   "metadata": {
    "ExecuteTime": {
     "end_time": "2018-02-24T09:19:59.702912Z",
     "start_time": "2018-02-24T09:19:59.451245Z"
    },
    "_cell_guid": "e9e99565-3296-cb48-3cc7-722b94e3fdac",
    "_uuid": "7be1eb67d4ee7407eec9918a5cb71276c214e63e",
    "scrolled": false
   },
   "outputs": [
    {
     "data": {
      "image/png": "[encoded data removed]",
      "text/plain": [
       "<matplotlib.figure.Figure at 0x271e7107710>"
      ]
     },
     "metadata": {},
     "output_type": "display_data"
    }
   ],
   "source": [
    "# 离群点检测（outliers），\n",
    "plt.scatter(train.GrLivArea, train.SalePrice, c = \"blue\", marker = \"s\")\n",
    "plt.title(\"Outliers\")\n",
    "plt.xlabel(\"GrLivArea\")\n",
    "plt.ylabel(\"SalePrice\")\n",
    "plt.show()\n",
    "\n",
    "#剔除离群点, 数据提供方寻底删除GrLivArea < 4000\n",
    "train = train[train.GrLivArea < 4000]\n",
    "temp = train.reindex()"
   ]
  },
  {
   "cell_type": "markdown",
   "metadata": {
    "_cell_guid": "2ff6d8cc-1f4b-776c-43d7-e9061eb5bed3",
    "_uuid": "6765753aa95dcd3a36a5ad5d48ceef42430e3513"
   },
   "source": [
    "散点图是一种直观发现outliers的方式。从上图中可以看出有2个极端的离群点在图的右下角（面积很大，但价格很低）。该数据集的提供者建议移除面积大于4000 square feet的数据点。\n",
    "Reference : https://ww2.amstat.org/publications/jse/v19n3/decock.pdf\n",
    "\n",
    "删除了4个样本点"
   ]
  },
  {
   "cell_type": "code",
   "execution_count": 6,
   "metadata": {
    "ExecuteTime": {
     "end_time": "2018-02-24T09:20:00.656118Z",
     "start_time": "2018-02-24T09:20:00.584071Z"
    },
    "scrolled": true
   },
   "outputs": [
    {
     "name": "stdout",
     "output_type": "stream",
     "text": [
      "<class 'pandas.core.frame.DataFrame'>\n",
      "Int64Index: 1456 entries, 0 to 1459\n",
      "Data columns (total 80 columns):\n",
      "MSSubClass       1456 non-null int64\n",
      "MSZoning         1456 non-null object\n",
      "LotFrontage      1197 non-null float64\n",
      "LotArea          1456 non-null int64\n",
      "Street           1456 non-null object\n",
      "Alley            91 non-null object\n",
      "LotShape         1456 non-null object\n",
      "LandContour      1456 non-null object\n",
      "Utilities        1456 non-null object\n",
      "LotConfig        1456 non-null object\n",
      "LandSlope        1456 non-null object\n",
      "Neighborhood     1456 non-null object\n",
      "Condition1       1456 non-null object\n",
      "Condition2       1456 non-null object\n",
      "BldgType         1456 non-null object\n",
      "HouseStyle       1456 non-null object\n",
      "OverallQual      1456 non-null int64\n",
      "OverallCond      1456 non-null int64\n",
      "YearBuilt        1456 non-null int64\n",
      "YearRemodAdd     1456 non-null int64\n",
      "RoofStyle        1456 non-null object\n",
      "RoofMatl         1456 non-null object\n",
      "Exterior1st      1456 non-null object\n",
      "Exterior2nd      1456 non-null object\n",
      "MasVnrType       1448 non-null object\n",
      "MasVnrArea       1448 non-null float64\n",
      "ExterQual        1456 non-null object\n",
      "ExterCond        1456 non-null object\n",
      "Foundation       1456 non-null object\n",
      "BsmtQual         1419 non-null object\n",
      "BsmtCond         1419 non-null object\n",
      "BsmtExposure     1418 non-null object\n",
      "BsmtFinType1     1419 non-null object\n",
      "BsmtFinSF1       1456 non-null int64\n",
      "BsmtFinType2     1418 non-null object\n",
      "BsmtFinSF2       1456 non-null int64\n",
      "BsmtUnfSF        1456 non-null int64\n",
      "TotalBsmtSF      1456 non-null int64\n",
      "Heating          1456 non-null object\n",
      "HeatingQC        1456 non-null object\n",
      "CentralAir       1456 non-null object\n",
      "Electrical       1455 non-null object\n",
      "1stFlrSF         1456 non-null int64\n",
      "2ndFlrSF         1456 non-null int64\n",
      "LowQualFinSF     1456 non-null int64\n",
      "GrLivArea        1456 non-null int64\n",
      "BsmtFullBath     1456 non-null int64\n",
      "BsmtHalfBath     1456 non-null int64\n",
      "FullBath         1456 non-null int64\n",
      "HalfBath         1456 non-null int64\n",
      "BedroomAbvGr     1456 non-null int64\n",
      "KitchenAbvGr     1456 non-null int64\n",
      "KitchenQual      1456 non-null object\n",
      "TotRmsAbvGrd     1456 non-null int64\n",
      "Functional       1456 non-null object\n",
      "Fireplaces       1456 non-null int64\n",
      "FireplaceQu      766 non-null object\n",
      "GarageType       1375 non-null object\n",
      "GarageYrBlt      1375 non-null float64\n",
      "GarageFinish     1375 non-null object\n",
      "GarageCars       1456 non-null int64\n",
      "GarageArea       1456 non-null int64\n",
      "GarageQual       1375 non-null object\n",
      "GarageCond       1375 non-null object\n",
      "PavedDrive       1456 non-null object\n",
      "WoodDeckSF       1456 non-null int64\n",
      "OpenPorchSF      1456 non-null int64\n",
      "EnclosedPorch    1456 non-null int64\n",
      "3SsnPorch        1456 non-null int64\n",
      "ScreenPorch      1456 non-null int64\n",
      "PoolArea         1456 non-null int64\n",
      "PoolQC           5 non-null object\n",
      "Fence            280 non-null object\n",
      "MiscFeature      54 non-null object\n",
      "MiscVal          1456 non-null int64\n",
      "MoSold           1456 non-null int64\n",
      "YrSold           1456 non-null int64\n",
      "SaleType         1456 non-null object\n",
      "SaleCondition    1456 non-null object\n",
      "SalePrice        1456 non-null int64\n",
      "dtypes: float64(3), int64(34), object(43)\n",
      "memory usage: 921.4+ KB\n"
     ]
    }
   ],
   "source": [
    "train.info()"
   ]
  },
  {
   "cell_type": "markdown",
   "metadata": {},
   "source": [
    "## 缺失值处理"
   ]
  },
  {
   "cell_type": "code",
   "execution_count": 7,
   "metadata": {
    "ExecuteTime": {
     "end_time": "2018-02-24T09:20:01.519742Z",
     "start_time": "2018-02-24T09:20:01.503731Z"
    },
    "scrolled": true
   },
   "outputs": [
    {
     "data": {
      "text/plain": [
       "PoolQC           1451\n",
       "MiscFeature      1402\n",
       "Alley            1365\n",
       "Fence            1176\n",
       "FireplaceQu       690\n",
       "LotFrontage       259\n",
       "GarageType         81\n",
       "GarageCond         81\n",
       "GarageFinish       81\n",
       "GarageQual         81\n",
       "GarageYrBlt        81\n",
       "BsmtFinType2       38\n",
       "BsmtExposure       38\n",
       "BsmtQual           37\n",
       "BsmtCond           37\n",
       "BsmtFinType1       37\n",
       "MasVnrArea          8\n",
       "MasVnrType          8\n",
       "Electrical          1\n",
       "RoofMatl            0\n",
       "Exterior1st         0\n",
       "RoofStyle           0\n",
       "ExterQual           0\n",
       "Exterior2nd         0\n",
       "YearBuilt           0\n",
       "ExterCond           0\n",
       "Foundation          0\n",
       "YearRemodAdd        0\n",
       "SalePrice           0\n",
       "OverallCond         0\n",
       "                 ... \n",
       "GarageArea          0\n",
       "PavedDrive          0\n",
       "WoodDeckSF          0\n",
       "OpenPorchSF         0\n",
       "3SsnPorch           0\n",
       "BsmtUnfSF           0\n",
       "ScreenPorch         0\n",
       "PoolArea            0\n",
       "MiscVal             0\n",
       "MoSold              0\n",
       "YrSold              0\n",
       "SaleType            0\n",
       "Functional          0\n",
       "TotRmsAbvGrd        0\n",
       "KitchenQual         0\n",
       "KitchenAbvGr        0\n",
       "BedroomAbvGr        0\n",
       "HalfBath            0\n",
       "FullBath            0\n",
       "BsmtHalfBath        0\n",
       "BsmtFullBath        0\n",
       "GrLivArea           0\n",
       "LowQualFinSF        0\n",
       "2ndFlrSF            0\n",
       "1stFlrSF            0\n",
       "CentralAir          0\n",
       "SaleCondition       0\n",
       "Heating             0\n",
       "TotalBsmtSF         0\n",
       "MSSubClass          0\n",
       "Length: 80, dtype: int64"
      ]
     },
     "execution_count": 7,
     "metadata": {},
     "output_type": "execute_result"
    }
   ],
   "source": [
    "train.isnull().sum().sort_values(ascending=False)"
   ]
  },
  {
   "cell_type": "code",
   "execution_count": 8,
   "metadata": {
    "ExecuteTime": {
     "end_time": "2018-02-24T09:20:01.950766Z",
     "start_time": "2018-02-24T09:20:01.926249Z"
    }
   },
   "outputs": [
    {
     "data": {
      "text/html": [
       "<div>\n",
       "<style>\n",
       "    .dataframe thead tr:only-child th {\n",
       "        text-align: right;\n",
       "    }\n",
       "\n",
       "    .dataframe thead th {\n",
       "        text-align: left;\n",
       "    }\n",
       "\n",
       "    .dataframe tbody tr th {\n",
       "        vertical-align: top;\n",
       "    }\n",
       "</style>\n",
       "<table border=\"1\" class=\"dataframe\">\n",
       "  <thead>\n",
       "    <tr style=\"text-align: right;\">\n",
       "      <th></th>\n",
       "      <th>A</th>\n",
       "      <th>B</th>\n",
       "      <th>C</th>\n",
       "      <th>D</th>\n",
       "    </tr>\n",
       "  </thead>\n",
       "  <tbody>\n",
       "    <tr>\n",
       "      <th>1</th>\n",
       "      <td>3.000</td>\n",
       "      <td>4.000</td>\n",
       "      <td>nan</td>\n",
       "      <td>1</td>\n",
       "    </tr>\n",
       "  </tbody>\n",
       "</table>\n",
       "</div>"
      ],
      "text/plain": [
       "      A     B   C  D\n",
       "1 3.000 4.000 nan  1"
      ]
     },
     "execution_count": 8,
     "metadata": {},
     "output_type": "execute_result"
    }
   ],
   "source": [
    "df = pd.DataFrame([[np.nan, 2, np.nan, 0]\n",
    "                   , [3, 4, np.nan, 1]\n",
    "                   , [np.nan, np.nan, np.nan, 5]]\n",
    "                  ,columns=list('ABCD'))\n",
    "# dropna(self, axis=0, how='any', thresh=None, subset=None, inplace=False)\n",
    "df.dropna(axis=0, subset=['A'])"
   ]
  },
  {
   "cell_type": "code",
   "execution_count": 9,
   "metadata": {
    "ExecuteTime": {
     "end_time": "2018-02-24T09:20:02.242143Z",
     "start_time": "2018-02-24T09:20:02.167594Z"
    },
    "scrolled": true
   },
   "outputs": [
    {
     "name": "stdout",
     "output_type": "stream",
     "text": [
      "<class 'pandas.core.frame.DataFrame'>\n",
      "Int64Index: 1455 entries, 0 to 1459\n",
      "Data columns (total 80 columns):\n",
      "MSSubClass       1455 non-null int64\n",
      "MSZoning         1455 non-null object\n",
      "LotFrontage      1196 non-null float64\n",
      "LotArea          1455 non-null int64\n",
      "Street           1455 non-null object\n",
      "Alley            91 non-null object\n",
      "LotShape         1455 non-null object\n",
      "LandContour      1455 non-null object\n",
      "Utilities        1455 non-null object\n",
      "LotConfig        1455 non-null object\n",
      "LandSlope        1455 non-null object\n",
      "Neighborhood     1455 non-null object\n",
      "Condition1       1455 non-null object\n",
      "Condition2       1455 non-null object\n",
      "BldgType         1455 non-null object\n",
      "HouseStyle       1455 non-null object\n",
      "OverallQual      1455 non-null int64\n",
      "OverallCond      1455 non-null int64\n",
      "YearBuilt        1455 non-null int64\n",
      "YearRemodAdd     1455 non-null int64\n",
      "RoofStyle        1455 non-null object\n",
      "RoofMatl         1455 non-null object\n",
      "Exterior1st      1455 non-null object\n",
      "Exterior2nd      1455 non-null object\n",
      "MasVnrType       1447 non-null object\n",
      "MasVnrArea       1447 non-null float64\n",
      "ExterQual        1455 non-null object\n",
      "ExterCond        1455 non-null object\n",
      "Foundation       1455 non-null object\n",
      "BsmtQual         1418 non-null object\n",
      "BsmtCond         1418 non-null object\n",
      "BsmtExposure     1417 non-null object\n",
      "BsmtFinType1     1418 non-null object\n",
      "BsmtFinSF1       1455 non-null int64\n",
      "BsmtFinType2     1417 non-null object\n",
      "BsmtFinSF2       1455 non-null int64\n",
      "BsmtUnfSF        1455 non-null int64\n",
      "TotalBsmtSF      1455 non-null int64\n",
      "Heating          1455 non-null object\n",
      "HeatingQC        1455 non-null object\n",
      "CentralAir       1455 non-null object\n",
      "Electrical       1455 non-null object\n",
      "1stFlrSF         1455 non-null int64\n",
      "2ndFlrSF         1455 non-null int64\n",
      "LowQualFinSF     1455 non-null int64\n",
      "GrLivArea        1455 non-null int64\n",
      "BsmtFullBath     1455 non-null int64\n",
      "BsmtHalfBath     1455 non-null int64\n",
      "FullBath         1455 non-null int64\n",
      "HalfBath         1455 non-null int64\n",
      "BedroomAbvGr     1455 non-null int64\n",
      "KitchenAbvGr     1455 non-null int64\n",
      "KitchenQual      1455 non-null object\n",
      "TotRmsAbvGrd     1455 non-null int64\n",
      "Functional       1455 non-null object\n",
      "Fireplaces       1455 non-null int64\n",
      "FireplaceQu      766 non-null object\n",
      "GarageType       1374 non-null object\n",
      "GarageYrBlt      1374 non-null float64\n",
      "GarageFinish     1374 non-null object\n",
      "GarageCars       1455 non-null int64\n",
      "GarageArea       1455 non-null int64\n",
      "GarageQual       1374 non-null object\n",
      "GarageCond       1374 non-null object\n",
      "PavedDrive       1455 non-null object\n",
      "WoodDeckSF       1455 non-null int64\n",
      "OpenPorchSF      1455 non-null int64\n",
      "EnclosedPorch    1455 non-null int64\n",
      "3SsnPorch        1455 non-null int64\n",
      "ScreenPorch      1455 non-null int64\n",
      "PoolArea         1455 non-null int64\n",
      "PoolQC           5 non-null object\n",
      "Fence            280 non-null object\n",
      "MiscFeature      54 non-null object\n",
      "MiscVal          1455 non-null int64\n",
      "MoSold           1455 non-null int64\n",
      "YrSold           1455 non-null int64\n",
      "SaleType         1455 non-null object\n",
      "SaleCondition    1455 non-null object\n",
      "SalePrice        1455 non-null int64\n",
      "dtypes: float64(3), int64(34), object(43)\n",
      "memory usage: 920.7+ KB\n"
     ]
    }
   ],
   "source": [
    "# Electrical只有一个nan,删除此行\n",
    "train.dropna(axis=0, subset=[\"Electrical\"], inplace=True)\n",
    "# axis 指 轴，0是行，1是列，\n",
    "# how 是删除条件：any 任意一个为na则删除整行/列,all 整行/列为na才删除\n",
    "# inplace 是否在原DataFrame 上进行删除，false为否\n",
    "train.info()"
   ]
  },
  {
   "cell_type": "code",
   "execution_count": 10,
   "metadata": {
    "ExecuteTime": {
     "end_time": "2018-02-24T09:20:03.213351Z",
     "start_time": "2018-02-24T09:20:02.403750Z"
    },
    "_cell_guid": "1fecd55e-0392-4d08-c4f7-da4326f42538",
    "_uuid": "962f499ff05ccae0a4d2f641e166e802ade13212"
   },
   "outputs": [],
   "source": [
    "# 有些特征，用median/mean or most common value 填充没有意义\n",
    "# 因为特征工程对训练集和测试都需要进行，\n",
    "# 因此我们定义成函数，将数据集以参数形式传递\n",
    "def process_missvalue_by_meaning (df):\n",
    "    # Alley : data description says NA means \"no alley access\"\n",
    "    df.loc[:, \"Alley\"] = df.loc[:, \"Alley\"].fillna(\"None\")\n",
    "\n",
    "    # BedroomAbvGr : NA most likely means 0\n",
    "    df.loc[:, \"BedroomAbvGr\"] = df.loc[:, \"BedroomAbvGr\"].fillna(0)\n",
    "\n",
    "    # BsmtQual etc : data description says NA for basement features is \"no basement\"\n",
    "    df.loc[:, \"BsmtQual\"] = df.loc[:, \"BsmtQual\"].fillna(\"No\")\n",
    "    df.loc[:, \"BsmtCond\"] = df.loc[:, \"BsmtCond\"].fillna(\"No\")\n",
    "    df.loc[:, \"BsmtExposure\"] = df.loc[:, \"BsmtExposure\"].fillna(\"No\")\n",
    "    df.loc[:, \"BsmtFinType1\"] = df.loc[:, \"BsmtFinType1\"].fillna(\"No\")\n",
    "    df.loc[:, \"BsmtFinType2\"] = df.loc[:, \"BsmtFinType2\"].fillna(\"No\")\n",
    "    df.loc[:, \"BsmtFullBath\"] = df.loc[:, \"BsmtFullBath\"].fillna(0)\n",
    "    df.loc[:, \"BsmtHalfBath\"] = df.loc[:, \"BsmtHalfBath\"].fillna(0)\n",
    "    df.loc[:, \"BsmtUnfSF\"] = df.loc[:, \"BsmtUnfSF\"].fillna(0)\n",
    "\n",
    "    # CentralAir : NA most likely means No\n",
    "    df.loc[:, \"CentralAir\"] = df.loc[:, \"CentralAir\"].fillna(\"N\")\n",
    "\n",
    "    # Condition : NA most likely means Normal，靠近主干道或铁路\n",
    "    df.loc[:, \"Condition1\"] = df.loc[:, \"Condition1\"].fillna(\"Norm\")\n",
    "    df.loc[:, \"Condition2\"] = df.loc[:, \"Condition2\"].fillna(\"Norm\")\n",
    "\n",
    "    # EnclosedPorch : NA most likely means no enclosed porch\n",
    "    df.loc[:, \"EnclosedPorch\"] = df.loc[:, \"EnclosedPorch\"].fillna(0)\n",
    "\n",
    "    # External stuff : NA most likely means average\n",
    "    df.loc[:, \"ExterCond\"] = df.loc[:, \"ExterCond\"].fillna(\"TA\")\n",
    "    df.loc[:, \"ExterQual\"] = df.loc[:, \"ExterQual\"].fillna(\"TA\")\n",
    "\n",
    "    # Fence : data description says NA means \"no fence\"\n",
    "    df.loc[:, \"Fence\"] = df.loc[:, \"Fence\"].fillna(\"No\")\n",
    "\n",
    "    # FireplaceQu : data description says NA means \"no fireplace\"\n",
    "    df.loc[:, \"FireplaceQu\"] = df.loc[:, \"FireplaceQu\"].fillna(\"No\")\n",
    "    df.loc[:, \"Fireplaces\"] = df.loc[:, \"Fireplaces\"].fillna(0)\n",
    "\n",
    "    # Functional : data description says NA means typical，家用（Home）功能性评级\n",
    "    df.loc[:, \"Functional\"] = df.loc[:, \"Functional\"].fillna(\"Typ\")\n",
    "\n",
    "    # GarageType etc : data description says NA for garage features is \"no garage\"\n",
    "    df.loc[:, \"GarageType\"] = df.loc[:, \"GarageType\"].fillna(\"No\")\n",
    "    df.loc[:, \"GarageFinish\"] = df.loc[:, \"GarageFinish\"].fillna(\"No\")\n",
    "    df.loc[:, \"GarageQual\"] = df.loc[:, \"GarageQual\"].fillna(\"No\")\n",
    "    df.loc[:, \"GarageCond\"] = df.loc[:, \"GarageCond\"].fillna(\"No\")\n",
    "    df.loc[:, \"GarageArea\"] = df.loc[:, \"GarageArea\"].fillna(0)\n",
    "    df.loc[:, \"GarageCars\"] = df.loc[:, \"GarageCars\"].fillna(0)\n",
    "\n",
    "    # HalfBath : NA most likely means no half baths above grade\n",
    "    df.loc[:, \"HalfBath\"] = df.loc[:, \"HalfBath\"].fillna(0)\n",
    "\n",
    "    # HeatingQC : NA most likely means typical\n",
    "    df.loc[:, \"HeatingQC\"] = df.loc[:, \"HeatingQC\"].fillna(\"TA\")\n",
    "\n",
    "    # KitchenAbvGr : NA most likely means 0\n",
    "    df.loc[:, \"KitchenAbvGr\"] = df.loc[:, \"KitchenAbvGr\"].fillna(0)\n",
    "\n",
    "    # KitchenQual : NA most likely means typical\n",
    "    df.loc[:, \"KitchenQual\"] = df.loc[:, \"KitchenQual\"].fillna(\"TA\")\n",
    "\n",
    "    # LotFrontage : NA most likely means no lot frontage\n",
    "    df.loc[:, \"LotFrontage\"] = df.loc[:, \"LotFrontage\"].fillna(0)\n",
    "\n",
    "    # LotShape : NA most likely means regular\n",
    "    df.loc[:, \"LotShape\"] = df.loc[:, \"LotShape\"].fillna(\"Reg\")\n",
    "\n",
    "    # MasVnrType : NA most likely means no veneer，表层砌体（Masonry veneer）类型\n",
    "    df.loc[:, \"MasVnrType\"] = df.loc[:, \"MasVnrType\"].fillna(\"None\")\n",
    "    df.loc[:, \"MasVnrArea\"] = df.loc[:, \"MasVnrArea\"].fillna(0)\n",
    "\n",
    "    # MiscFeature : data description says NA means \"no misc feature\"\n",
    "    df.loc[:, \"MiscFeature\"] = df.loc[:, \"MiscFeature\"].fillna(\"No\")\n",
    "    df.loc[:, \"MiscVal\"] = df.loc[:, \"MiscVal\"].fillna(0)\n",
    "\n",
    "    # OpenPorchSF : NA most likely means no open porch\n",
    "    df.loc[:, \"OpenPorchSF\"] = df.loc[:, \"OpenPorchSF\"].fillna(0)\n",
    "\n",
    "    # PavedDrive : NA most likely means not paved\n",
    "    df.loc[:, \"PavedDrive\"] = df.loc[:, \"PavedDrive\"].fillna(\"N\")\n",
    "\n",
    "    # PoolQC : data description says NA means \"no pool\"\n",
    "    df.loc[:, \"PoolQC\"] = df.loc[:, \"PoolQC\"].fillna(\"No\")\n",
    "    df.loc[:, \"PoolArea\"] = df.loc[:, \"PoolArea\"].fillna(0)\n",
    "\n",
    "    # SaleCondition : NA most likely means normal sale\n",
    "    df.loc[:, \"SaleCondition\"] = df.loc[:, \"SaleCondition\"].fillna(\"Normal\")\n",
    "\n",
    "    # ScreenPorch : NA most likely means no screen porch，观景门廊\n",
    "    df.loc[:, \"ScreenPorch\"] = df.loc[:, \"ScreenPorch\"].fillna(0)\n",
    "\n",
    "    # TotRmsAbvGrd : NA most likely means 0\n",
    "    df.loc[:, \"TotRmsAbvGrd\"] = df.loc[:, \"TotRmsAbvGrd\"].fillna(0)\n",
    "\n",
    "    # Utilities : NA most likely means all public utilities\n",
    "    df.loc[:, \"Utilities\"] = df.loc[:, \"Utilities\"].fillna(\"AllPub\")\n",
    "\n",
    "    # WoodDeckSF : NA most likely means no wood deck\n",
    "    df.loc[:, \"WoodDeckSF\"] = df.loc[:, \"WoodDeckSF\"].fillna(0)\n",
    "    \n",
    "    return df\n",
    "    \n",
    "train = process_missvalue_by_meaning(train)\n",
    "test = process_missvalue_by_meaning(test)"
   ]
  },
  {
   "cell_type": "code",
   "execution_count": 11,
   "metadata": {
    "ExecuteTime": {
     "end_time": "2018-02-24T09:20:03.240867Z",
     "start_time": "2018-02-24T09:20:03.215849Z"
    },
    "scrolled": true
   },
   "outputs": [
    {
     "name": "stdout",
     "output_type": "stream",
     "text": [
      "<class 'pandas.core.frame.DataFrame'>\n",
      "Int64Index: 1455 entries, 0 to 1459\n",
      "Data columns (total 80 columns):\n",
      "MSSubClass       1455 non-null int64\n",
      "MSZoning         1455 non-null object\n",
      "LotFrontage      1455 non-null float64\n",
      "LotArea          1455 non-null int64\n",
      "Street           1455 non-null object\n",
      "Alley            1455 non-null object\n",
      "LotShape         1455 non-null object\n",
      "LandContour      1455 non-null object\n",
      "Utilities        1455 non-null object\n",
      "LotConfig        1455 non-null object\n",
      "LandSlope        1455 non-null object\n",
      "Neighborhood     1455 non-null object\n",
      "Condition1       1455 non-null object\n",
      "Condition2       1455 non-null object\n",
      "BldgType         1455 non-null object\n",
      "HouseStyle       1455 non-null object\n",
      "OverallQual      1455 non-null int64\n",
      "OverallCond      1455 non-null int64\n",
      "YearBuilt        1455 non-null int64\n",
      "YearRemodAdd     1455 non-null int64\n",
      "RoofStyle        1455 non-null object\n",
      "RoofMatl         1455 non-null object\n",
      "Exterior1st      1455 non-null object\n",
      "Exterior2nd      1455 non-null object\n",
      "MasVnrType       1455 non-null object\n",
      "MasVnrArea       1455 non-null float64\n",
      "ExterQual        1455 non-null object\n",
      "ExterCond        1455 non-null object\n",
      "Foundation       1455 non-null object\n",
      "BsmtQual         1455 non-null object\n",
      "BsmtCond         1455 non-null object\n",
      "BsmtExposure     1455 non-null object\n",
      "BsmtFinType1     1455 non-null object\n",
      "BsmtFinSF1       1455 non-null int64\n",
      "BsmtFinType2     1455 non-null object\n",
      "BsmtFinSF2       1455 non-null int64\n",
      "BsmtUnfSF        1455 non-null int64\n",
      "TotalBsmtSF      1455 non-null int64\n",
      "Heating          1455 non-null object\n",
      "HeatingQC        1455 non-null object\n",
      "CentralAir       1455 non-null object\n",
      "Electrical       1455 non-null object\n",
      "1stFlrSF         1455 non-null int64\n",
      "2ndFlrSF         1455 non-null int64\n",
      "LowQualFinSF     1455 non-null int64\n",
      "GrLivArea        1455 non-null int64\n",
      "BsmtFullBath     1455 non-null int64\n",
      "BsmtHalfBath     1455 non-null int64\n",
      "FullBath         1455 non-null int64\n",
      "HalfBath         1455 non-null int64\n",
      "BedroomAbvGr     1455 non-null int64\n",
      "KitchenAbvGr     1455 non-null int64\n",
      "KitchenQual      1455 non-null object\n",
      "TotRmsAbvGrd     1455 non-null int64\n",
      "Functional       1455 non-null object\n",
      "Fireplaces       1455 non-null int64\n",
      "FireplaceQu      1455 non-null object\n",
      "GarageType       1455 non-null object\n",
      "GarageYrBlt      1374 non-null float64\n",
      "GarageFinish     1455 non-null object\n",
      "GarageCars       1455 non-null int64\n",
      "GarageArea       1455 non-null int64\n",
      "GarageQual       1455 non-null object\n",
      "GarageCond       1455 non-null object\n",
      "PavedDrive       1455 non-null object\n",
      "WoodDeckSF       1455 non-null int64\n",
      "OpenPorchSF      1455 non-null int64\n",
      "EnclosedPorch    1455 non-null int64\n",
      "3SsnPorch        1455 non-null int64\n",
      "ScreenPorch      1455 non-null int64\n",
      "PoolArea         1455 non-null int64\n",
      "PoolQC           1455 non-null object\n",
      "Fence            1455 non-null object\n",
      "MiscFeature      1455 non-null object\n",
      "MiscVal          1455 non-null int64\n",
      "MoSold           1455 non-null int64\n",
      "YrSold           1455 non-null int64\n",
      "SaleType         1455 non-null object\n",
      "SaleCondition    1455 non-null object\n",
      "SalePrice        1455 non-null int64\n",
      "dtypes: float64(3), int64(34), object(43)\n",
      "memory usage: 920.7+ KB\n"
     ]
    }
   ],
   "source": [
    "train.info()"
   ]
  },
  {
   "cell_type": "code",
   "execution_count": 12,
   "metadata": {
    "ExecuteTime": {
     "end_time": "2018-02-24T09:20:03.269426Z",
     "start_time": "2018-02-24T09:20:03.243911Z"
    },
    "scrolled": true
   },
   "outputs": [
    {
     "name": "stdout",
     "output_type": "stream",
     "text": [
      "<class 'pandas.core.frame.DataFrame'>\n",
      "RangeIndex: 1459 entries, 0 to 1458\n",
      "Data columns (total 79 columns):\n",
      "MSSubClass       1459 non-null int64\n",
      "MSZoning         1455 non-null object\n",
      "LotFrontage      1459 non-null float64\n",
      "LotArea          1459 non-null int64\n",
      "Street           1459 non-null object\n",
      "Alley            1459 non-null object\n",
      "LotShape         1459 non-null object\n",
      "LandContour      1459 non-null object\n",
      "Utilities        1459 non-null object\n",
      "LotConfig        1459 non-null object\n",
      "LandSlope        1459 non-null object\n",
      "Neighborhood     1459 non-null object\n",
      "Condition1       1459 non-null object\n",
      "Condition2       1459 non-null object\n",
      "BldgType         1459 non-null object\n",
      "HouseStyle       1459 non-null object\n",
      "OverallQual      1459 non-null int64\n",
      "OverallCond      1459 non-null int64\n",
      "YearBuilt        1459 non-null int64\n",
      "YearRemodAdd     1459 non-null int64\n",
      "RoofStyle        1459 non-null object\n",
      "RoofMatl         1459 non-null object\n",
      "Exterior1st      1458 non-null object\n",
      "Exterior2nd      1458 non-null object\n",
      "MasVnrType       1459 non-null object\n",
      "MasVnrArea       1459 non-null float64\n",
      "ExterQual        1459 non-null object\n",
      "ExterCond        1459 non-null object\n",
      "Foundation       1459 non-null object\n",
      "BsmtQual         1459 non-null object\n",
      "BsmtCond         1459 non-null object\n",
      "BsmtExposure     1459 non-null object\n",
      "BsmtFinType1     1459 non-null object\n",
      "BsmtFinSF1       1458 non-null float64\n",
      "BsmtFinType2     1459 non-null object\n",
      "BsmtFinSF2       1458 non-null float64\n",
      "BsmtUnfSF        1459 non-null float64\n",
      "TotalBsmtSF      1458 non-null float64\n",
      "Heating          1459 non-null object\n",
      "HeatingQC        1459 non-null object\n",
      "CentralAir       1459 non-null object\n",
      "Electrical       1459 non-null object\n",
      "1stFlrSF         1459 non-null int64\n",
      "2ndFlrSF         1459 non-null int64\n",
      "LowQualFinSF     1459 non-null int64\n",
      "GrLivArea        1459 non-null int64\n",
      "BsmtFullBath     1459 non-null float64\n",
      "BsmtHalfBath     1459 non-null float64\n",
      "FullBath         1459 non-null int64\n",
      "HalfBath         1459 non-null int64\n",
      "BedroomAbvGr     1459 non-null int64\n",
      "KitchenAbvGr     1459 non-null int64\n",
      "KitchenQual      1459 non-null object\n",
      "TotRmsAbvGrd     1459 non-null int64\n",
      "Functional       1459 non-null object\n",
      "Fireplaces       1459 non-null int64\n",
      "FireplaceQu      1459 non-null object\n",
      "GarageType       1459 non-null object\n",
      "GarageYrBlt      1381 non-null float64\n",
      "GarageFinish     1459 non-null object\n",
      "GarageCars       1459 non-null float64\n",
      "GarageArea       1459 non-null float64\n",
      "GarageQual       1459 non-null object\n",
      "GarageCond       1459 non-null object\n",
      "PavedDrive       1459 non-null object\n",
      "WoodDeckSF       1459 non-null int64\n",
      "OpenPorchSF      1459 non-null int64\n",
      "EnclosedPorch    1459 non-null int64\n",
      "3SsnPorch        1459 non-null int64\n",
      "ScreenPorch      1459 non-null int64\n",
      "PoolArea         1459 non-null int64\n",
      "PoolQC           1459 non-null object\n",
      "Fence            1459 non-null object\n",
      "MiscFeature      1459 non-null object\n",
      "MiscVal          1459 non-null int64\n",
      "MoSold           1459 non-null int64\n",
      "YrSold           1459 non-null int64\n",
      "SaleType         1458 non-null object\n",
      "SaleCondition    1459 non-null object\n",
      "dtypes: float64(11), int64(25), object(43)\n",
      "memory usage: 900.6+ KB\n"
     ]
    }
   ],
   "source": [
    "test.info()"
   ]
  },
  {
   "cell_type": "markdown",
   "metadata": {},
   "source": [
    "## 数值2字符"
   ]
  },
  {
   "cell_type": "code",
   "execution_count": 13,
   "metadata": {
    "ExecuteTime": {
     "end_time": "2018-02-24T09:20:04.209566Z",
     "start_time": "2018-02-24T09:20:04.167540Z"
    },
    "_cell_guid": "f9de2ccc-4a07-a8f2-75d8-5151ff653e86",
    "_uuid": "f1fb890f0fb1339141dbf1d5b67e9fc630ac68e6"
   },
   "outputs": [],
   "source": [
    "#将数值型转换为字符型，原因是数值大小无明显意义，如仅表示类别\n",
    "# Some numerical features are actually really categories\n",
    "# MSSubClass：建筑类\n",
    "#MoSold：销售月份\n",
    "\n",
    "def numberical2cat(df):\n",
    "    df.replace({\"MSSubClass\" : {20 : \"SC20\", 30 : \"SC30\", 40 : \"SC40\", 45 : \"SC45\", \n",
    "                                       50 : \"SC50\", 60 : \"SC60\", 70 : \"SC70\", 75 : \"SC75\", \n",
    "                                       80 : \"SC80\", 85 : \"SC85\", 90 : \"SC90\", 120 : \"SC120\", \n",
    "                                       150 : \"SC150\", 160 : \"SC160\", 180 : \"SC180\", 190 : \"SC190\"},\n",
    "                       \"MoSold\" : {1 : \"Jan\", 2 : \"Feb\", 3 : \"Mar\", 4 : \"Apr\", 5 : \"May\", 6 : \"Jun\",\n",
    "                                   7 : \"Jul\", 8 : \"Aug\", 9 : \"Sep\", 10 : \"Oct\", 11 : \"Nov\", 12 : \"Dec\"}\n",
    "                      }, inplace = True)\n",
    "\n",
    "    return df\n",
    "train = numberical2cat(train)\n",
    "test = numberical2cat(test)"
   ]
  },
  {
   "cell_type": "code",
   "execution_count": 14,
   "metadata": {
    "ExecuteTime": {
     "end_time": "2018-02-24T09:20:04.394911Z",
     "start_time": "2018-02-24T09:20:04.390908Z"
    },
    "_cell_guid": "3c57fec5-4eb9-9130-cf96-54e00275a594",
    "_uuid": "1d71e2dd33959a2fe15df931793194188fdcb4f7"
   },
   "outputs": [],
   "source": [
    "#将字符型转换为数值型，原因是不同类别表示程度不同，可用数值大小表示程度深浅\n",
    "# Encode some categorical features as ordered numbers when there is information in the order"
   ]
  },
  {
   "cell_type": "code",
   "execution_count": 15,
   "metadata": {
    "ExecuteTime": {
     "end_time": "2018-02-24T09:20:04.959707Z",
     "start_time": "2018-02-24T09:20:04.742536Z"
    }
   },
   "outputs": [],
   "source": [
    "# 字符 2 数值\n",
    "def cat2numberical(df):\n",
    "    df.replace({\"Alley\" : {\"None\": 0, \"Grvl\" : 1, \"Pave\" : 2},\n",
    "                \"BsmtCond\" : {\"No\" : 0, \"Po\" : 1, \"Fa\" : 2, \"TA\" : 3, \"Gd\" : 4, \"Ex\" : 5},\n",
    "                \"BsmtExposure\" : {\"No\" : 0, \"Mn\" : 1, \"Av\": 2, \"Gd\" : 3},\n",
    "                \"BsmtFinType1\" : {\"No\" : 0, \"Unf\" : 1, \"LwQ\": 2, \"Rec\" : 3, \"BLQ\" : 4, \n",
    "                                         \"ALQ\" : 5, \"GLQ\" : 6},\n",
    "                \"BsmtFinType2\" : {\"No\" : 0, \"Unf\" : 1, \"LwQ\": 2, \"Rec\" : 3, \"BLQ\" : 4, \n",
    "                                         \"ALQ\" : 5, \"GLQ\" : 6},\n",
    "                \"BsmtQual\" : {\"No\" : 0, \"Po\" : 1, \"Fa\" : 2, \"TA\": 3, \"Gd\" : 4, \"Ex\" : 5},\n",
    "                \"ExterCond\" : {\"Po\" : 1, \"Fa\" : 2, \"TA\": 3, \"Gd\": 4, \"Ex\" : 5},\n",
    "                \"ExterQual\" : {\"Po\" : 1, \"Fa\" : 2, \"TA\": 3, \"Gd\": 4, \"Ex\" : 5},\n",
    "                \"FireplaceQu\" : {\"No\" : 0, \"Po\" : 1, \"Fa\" : 2, \"TA\" : 3, \"Gd\" : 4, \"Ex\" : 5},\n",
    "                \"Functional\" : {\"Sal\" : 1, \"Sev\" : 2, \"Maj2\" : 3, \"Maj1\" : 4, \"Mod\": 5, \n",
    "                                       \"Min2\" : 6, \"Min1\" : 7, \"Typ\" : 8},\n",
    "                \"GarageCond\" : {\"No\" : 0, \"Po\" : 1, \"Fa\" : 2, \"TA\" : 3, \"Gd\" : 4, \"Ex\" : 5},\n",
    "                \"GarageQual\" : {\"No\" : 0, \"Po\" : 1, \"Fa\" : 2, \"TA\" : 3, \"Gd\" : 4, \"Ex\" : 5},\n",
    "                \"HeatingQC\" : {\"Po\" : 1, \"Fa\" : 2, \"TA\" : 3, \"Gd\" : 4, \"Ex\" : 5},\n",
    "                \"KitchenQual\" : {\"Po\" : 1, \"Fa\" : 2, \"TA\" : 3, \"Gd\" : 4, \"Ex\" : 5},\n",
    "                \"LandSlope\" : {\"Sev\" : 1, \"Mod\" : 2, \"Gtl\" : 3},\n",
    "                \"LotShape\" : {\"IR3\" : 1, \"IR2\" : 2, \"IR1\" : 3, \"Reg\" : 4},\n",
    "                \"PavedDrive\" : {\"N\" : 0, \"P\" : 1, \"Y\" : 2},\n",
    "                \"PoolQC\" : {\"No\" : 0, \"Fa\" : 1, \"TA\" : 2, \"Gd\" : 3, \"Ex\" : 4},\n",
    "                \"Street\" : {\"Grvl\" : 1, \"Pave\" : 2},\n",
    "                \"Utilities\" : {\"ELO\" : 1, \"NoSeWa\" : 2, \"NoSewr\" : 3, \"AllPub\" : 4}},\n",
    "                       inplace = True\n",
    "                     )\n",
    "    return df\n",
    "\n",
    "train = cat2numberical(train)\n",
    "test = cat2numberical(test)"
   ]
  },
  {
   "cell_type": "markdown",
   "metadata": {
    "_cell_guid": "5fedb3e5-d6e0-efdd-d92a-8079377f82a9",
    "_uuid": "87c726670c843c470d3c1b68d673ea531bffb253"
   },
   "source": [
    "## 创建新特征\n",
    "\n",
    " 1. 简化已有特征（将过于细致的分类转换为较粗略的分类）\n",
    " 2. 联合已有特征（+ - * / ....）\n",
    " 3. 现有重要特征（top 10）的多项式，并对原有数值特征进行数值变换（**2, **3, 根号2， 根号3， ....）"
   ]
  },
  {
   "cell_type": "code",
   "execution_count": 16,
   "metadata": {
    "ExecuteTime": {
     "end_time": "2018-02-24T09:20:05.430445Z",
     "start_time": "2018-02-24T09:20:05.253827Z"
    },
    "_cell_guid": "10327932-cac0-9310-1041-4572e72b44eb",
    "_uuid": "5fb5f75b47264d238fc2770b2141efc041679da8"
   },
   "outputs": [],
   "source": [
    "# Create new features\n",
    "# 1* Simplifications of existing features\n",
    "# 合并类别\n",
    "def simplify(df):\n",
    "    df[\"SimplOverallQual\"] = df.OverallQual.replace({1 : 1, 2 : 1, 3 : 1, # bad\n",
    "                                                    4 : 2, 5 : 2, 6 : 2, # average\n",
    "                                                    7 : 3, 8 : 3, 9 : 3, 10 : 3 # good\n",
    "                                                    }, inplace = True)\n",
    "    df[\"SimplOverallCond\"] = df.OverallCond.replace({1 : 1, 2 : 1, 3 : 1, # bad\n",
    "                                                    4 : 2, 5 : 2, 6 : 2, # average\n",
    "                                                    7 : 3, 8 : 3, 9 : 3, 10 : 3 # good\n",
    "                                                    },inplace = True)\n",
    "    df[\"SimplPoolQC\"] = df.PoolQC.replace({1 : 1, 2 : 1, # average\n",
    "                                           3 : 2, 4 : 2 # good\n",
    "                                          },inplace = True)\n",
    "    df[\"SimplGarageCond\"] = df.GarageCond.replace({1 : 1, # bad\n",
    "                                                2 : 1, 3 : 1, # average\n",
    "                                                4 : 2, 5 : 2 # good\n",
    "                                                        },inplace = True)\n",
    "    df[\"SimplGarageQual\"] = df.GarageQual.replace({1 : 1, # bad\n",
    "                                                    2 : 1, 3 : 1, # average\n",
    "                                                    4 : 2, 5 : 2 # good\n",
    "                                                    },inplace = True)\n",
    "    df[\"SimplFireplaceQu\"] = df.FireplaceQu.replace({1 : 1, # bad\n",
    "                                                           2 : 1, 3 : 1, # average\n",
    "                                                           4 : 2, 5 : 2 # good\n",
    "                                                          },inplace = True)\n",
    "    df[\"SimplFireplaceQu\"] = df.FireplaceQu.replace({1 : 1, # bad\n",
    "                                                           2 : 1, 3 : 1, # average\n",
    "                                                           4 : 2, 5 : 2 # good\n",
    "                                                          },inplace = True)\n",
    "    df[\"SimplFunctional\"] = df.Functional.replace({1 : 1, 2 : 1, # bad\n",
    "                                                         3 : 2, 4 : 2, # major\n",
    "                                                         5 : 3, 6 : 3, 7 : 3, # minor\n",
    "                                                         8 : 4 # typical\n",
    "                                                        },inplace = True)\n",
    "    df[\"SimplKitchenQual\"] = df.KitchenQual.replace({1 : 1, # bad\n",
    "                                                           2 : 1, 3 : 1, # average\n",
    "                                                           4 : 2, 5 : 2 # good\n",
    "                                                          },inplace = True)\n",
    "    df[\"SimplHeatingQC\"] = df.HeatingQC.replace({1 : 1, # bad\n",
    "                                                       2 : 1, 3 : 1, # average\n",
    "                                                       4 : 2, 5 : 2 # good\n",
    "                                                      },inplace = True)\n",
    "    df[\"SimplBsmtFinType1\"] = df.BsmtFinType1.replace({1 : 1, # unfinished\n",
    "                                                             2 : 1, 3 : 1, # rec room\n",
    "                                                             4 : 2, 5 : 2, 6 : 2 # living quarters\n",
    "                                                            },inplace = True)\n",
    "    df[\"SimplBsmtFinType2\"] = df.BsmtFinType2.replace({1 : 1, # unfinished\n",
    "                                                             2 : 1, 3 : 1, # rec room\n",
    "                                                             4 : 2, 5 : 2, 6 : 2 # living quarters\n",
    "                                                            },inplace = True)\n",
    "    df[\"SimplBsmtCond\"] = df.BsmtCond.replace({1 : 1, # bad\n",
    "                                                     2 : 1, 3 : 1, # average\n",
    "                                                     4 : 2, 5 : 2 # good\n",
    "                                                    },inplace = True)\n",
    "    df[\"SimplBsmtQual\"] = df.BsmtQual.replace({1 : 1, # bad\n",
    "                                                     2 : 1, 3 : 1, # average\n",
    "                                                     4 : 2, 5 : 2 # good\n",
    "                                                    },inplace = True)\n",
    "    df[\"SimplExterCond\"] = df.ExterCond.replace({1 : 1, # bad\n",
    "                                                       2 : 1, 3 : 1, # average\n",
    "                                                       4 : 2, 5 : 2 # good\n",
    "                                                      },inplace = True)\n",
    "    df[\"SimplExterQual\"] = df.ExterQual.replace({1 : 1, # bad\n",
    "                                                       2 : 1, 3 : 1, # average\n",
    "                                                       4 : 2, 5 : 2 # good\n",
    "                                                      },inplace = True)\n",
    "    return df\n",
    "\n",
    "train = simplify(train)\n",
    "test = simplify(test)"
   ]
  },
  {
   "cell_type": "code",
   "execution_count": 17,
   "metadata": {
    "ExecuteTime": {
     "end_time": "2018-02-24T09:20:05.711023Z",
     "start_time": "2018-02-24T09:20:05.544482Z"
    }
   },
   "outputs": [],
   "source": [
    "# 2* Combinations of existing features\n",
    "def Combine(df):\n",
    "    # Overall quality of the house\n",
    "    df[\"OverallGrade\"] = df[\"OverallQual\"] * df[\"OverallCond\"]\n",
    "    # Overall quality of the garage\n",
    "    df[\"GarageGrade\"] = df[\"GarageQual\"] * df[\"GarageCond\"]\n",
    "    # Overall quality of the exterior\n",
    "    df[\"ExterGrade\"] = df[\"ExterQual\"] * df[\"ExterCond\"]\n",
    "    # Overall kitchen score\n",
    "    df[\"KitchenScore\"] = df[\"KitchenAbvGr\"] * df[\"KitchenQual\"]\n",
    "    # Overall fireplace score\n",
    "    df[\"FireplaceScore\"] = df[\"Fireplaces\"] * df[\"FireplaceQu\"]\n",
    "    # Overall garage score\n",
    "    df[\"GarageScore\"] = df[\"GarageArea\"] * df[\"GarageQual\"]\n",
    "    # Overall pool score\n",
    "    df[\"PoolScore\"] = df[\"PoolArea\"] * df[\"PoolQC\"]\n",
    "    # Simplified overall quality of the house\n",
    "    df[\"SimplOverallGrade\"] = df[\"SimplOverallQual\"] * df[\"SimplOverallCond\"]\n",
    "    # Simplified overall quality of the exterior\n",
    "    df[\"SimplExterGrade\"] = df[\"SimplExterQual\"] * df[\"SimplExterCond\"]\n",
    "    # Simplified overall pool score\n",
    "    df[\"SimplPoolScore\"] = df[\"PoolArea\"] * df[\"SimplPoolQC\"]\n",
    "    # Simplified overall garage score\n",
    "    df[\"SimplGarageScore\"] = df[\"GarageArea\"] * df[\"SimplGarageQual\"]\n",
    "    # Simplified overall fireplace score\n",
    "    df[\"SimplFireplaceScore\"] = df[\"Fireplaces\"] * df[\"SimplFireplaceQu\"]\n",
    "    # Simplified overall kitchen score\n",
    "    df[\"SimplKitchenScore\"] = df[\"KitchenAbvGr\"] * df[\"SimplKitchenQual\"]\n",
    "    # Total number of bathrooms\n",
    "    df[\"TotalBath\"] = df[\"BsmtFullBath\"] + (0.5 * df[\"BsmtHalfBath\"]) + \\\n",
    "    df[\"FullBath\"] + (0.5 * df[\"HalfBath\"])\n",
    "    # Total SF for house (incl. basement)\n",
    "    df[\"AllSF\"] = df[\"GrLivArea\"] + df[\"TotalBsmtSF\"]\n",
    "    # Total SF for 1st + 2nd floors\n",
    "    df[\"AllFlrsSF\"] = df[\"1stFlrSF\"] + df[\"2ndFlrSF\"]\n",
    "    # Total SF for porch\n",
    "    df[\"AllPorchSF\"] = df[\"OpenPorchSF\"] + df[\"EnclosedPorch\"] + \\\n",
    "    df[\"3SsnPorch\"] + df[\"ScreenPorch\"]\n",
    "    # Has masonry veneer or not\n",
    "    df[\"HasMasVnr\"] = df.MasVnrType.replace({\"BrkCmn\" : 1, \"BrkFace\" : 1, \"CBlock\" : 1, \n",
    "                                                   \"Stone\" : 1, \"None\" : 0})\n",
    "    # House completed before sale or not\n",
    "    df[\"BoughtOffPlan\"] = df.SaleCondition.replace({\"Abnorml\" : 0, \"Alloca\" : 0, \"AdjLand\" : 0, \n",
    "                                                          \"Family\" : 0, \"Normal\" : 0, \"Partial\" : 1})\n",
    "    \n",
    "    return df\n",
    "\n",
    "#对训练集和测试集分别进行编码\n",
    "train = Combine(train)\n",
    "test = Combine(test)"
   ]
  },
  {
   "cell_type": "code",
   "execution_count": 20,
   "metadata": {
    "ExecuteTime": {
     "end_time": "2018-02-24T09:20:20.741923Z",
     "start_time": "2018-02-24T09:20:20.701895Z"
    }
   },
   "outputs": [
    {
     "name": "stdout",
     "output_type": "stream",
     "text": [
      "Find most important features relative to target\n",
      "0.616019527\n"
     ]
    }
   ],
   "source": [
    "# 3*1 Find most important features relative to target\n",
    "print(\"Find most important features relative to target\")\n",
    "corr = train.corr()\n",
    "corr.sort_values([\"SalePrice\"], ascending = False, inplace = True)\n",
    "#print(corr.SalePrice)\n",
    "\n",
    "threshold = corr.SalePrice.iloc[11]  #the first one is SalePrice itself,from 1-11\n",
    "print( threshold)\n",
    "top10_cols = (corr.SalePrice[corr['SalePrice']>threshold]).axes"
   ]
  },
  {
   "cell_type": "code",
   "execution_count": 21,
   "metadata": {
    "ExecuteTime": {
     "end_time": "2018-02-24T09:20:25.441022Z",
     "start_time": "2018-02-24T09:20:25.376426Z"
    },
    "_cell_guid": "bf2a8386-cb11-969a-d5cb-a2bb4a7094fd",
    "_uuid": "0bc46d508ce331972cefc711404b5447c6d403f2"
   },
   "outputs": [],
   "source": [
    "#3*2观测平方，根号之后变成的新特征是否与目标值相关\n",
    "# Create new features\n",
    "# 3*2 Polynomials on the top 10 existing features\n",
    "def Polynomials_top10(df, top10_cols):\n",
    "    for i in range(1,11):\n",
    "        new_cols_2 = top10_cols[0][i] + '_s' + str(2)\n",
    "        new_cols_3 = top10_cols[0][i] + '_s' + str(3)\n",
    "        new_cols_sq = top10_cols[0][i] + '_sq'\n",
    "        \n",
    "        df[new_cols_2] = df[top10_cols[0][i]] ** 2\n",
    "        df[new_cols_3] = df[top10_cols[0][i]] ** 3\n",
    "        df[new_cols_sq] = np.sqrt(df[top10_cols[0][i]]) \n",
    "        \n",
    "    return df\n",
    "\n",
    "\n",
    "train = Polynomials_top10(train, top10_cols)\n",
    "test = Polynomials_top10(test,top10_cols)"
   ]
  },
  {
   "cell_type": "markdown",
   "metadata": {},
   "source": [
    "## 空缺值填补"
   ]
  },
  {
   "cell_type": "code",
   "execution_count": 22,
   "metadata": {
    "ExecuteTime": {
     "end_time": "2018-02-24T09:20:28.523456Z",
     "start_time": "2018-02-24T09:20:27.162091Z"
    },
    "_cell_guid": "9a8ce5ba-12b9-61d6-6ae8-d3ff838f082e",
    "_uuid": "cdcf454f1fd784d9dd50733594142449e9440fb5",
    "scrolled": true
   },
   "outputs": [
    {
     "name": "stdout",
     "output_type": "stream",
     "text": [
      "Numerical features : 97\n",
      "<class 'pandas.core.frame.DataFrame'>\n",
      "Int64Index: 1455 entries, 0 to 1459\n",
      "Columns: 144 entries, MSSubClass to 1stFlrSF_sq\n",
      "dtypes: float64(16), int64(82), object(46)\n",
      "memory usage: 1.6+ MB\n",
      "NAs for numerical features in df : 81\n",
      "Remaining NAs for numerical features in df : 0\n"
     ]
    }
   ],
   "source": [
    "#对训练集的其他数值型特征进行空缺值填补（中值填补）\n",
    "#返回填补后的dataframe，以及每列的中值，用于填补测试集的空缺值\n",
    "# 数值型特征还要进行数据标准化\n",
    "from sklearn.preprocessing import StandardScaler\n",
    "def fillna_numerical_train(df):\n",
    "    numerical_features = df.select_dtypes(exclude = [\"object\"]).columns\n",
    "    \n",
    "    numerical_features = numerical_features.drop(\"SalePrice\")\n",
    "    print(\"Numerical features : \" + str(len(numerical_features)))\n",
    "\n",
    "    df.info()\n",
    "    df_num = df[numerical_features]\n",
    "    #df_num.info()\n",
    "    \n",
    "    medians = df_num.median() \n",
    "    # Handle remaining missing values for numerical features by using median as replacement\n",
    "    print(\"NAs for numerical features in df : \" + str(df_num.isnull().values.sum()))\n",
    "    df_num = df_num.fillna(medians)\n",
    "    print(\"Remaining NAs for numerical features in df : \" + str(df_num.isnull().values.sum()))\n",
    "\n",
    "    #df_num.info()\n",
    "    # 分别初始化对特征和目标值的标准化器\n",
    "    ss_X = StandardScaler()\n",
    "\n",
    "    # 对训练特征进行标准化处理\n",
    "    temp = ss_X.fit_transform(df_num)\n",
    "    df_num = pd.DataFrame(data=temp, columns=numerical_features, index =df_num.index)\n",
    "    \n",
    "    return df_num, medians, ss_X\n",
    "\n",
    "train_num, medians, ss_X = fillna_numerical_train(train)"
   ]
  },
  {
   "cell_type": "code",
   "execution_count": 23,
   "metadata": {
    "ExecuteTime": {
     "end_time": "2018-02-24T09:20:31.591568Z",
     "start_time": "2018-02-24T09:20:31.573055Z"
    },
    "scrolled": true
   },
   "outputs": [
    {
     "name": "stdout",
     "output_type": "stream",
     "text": [
      "<class 'pandas.core.frame.DataFrame'>\n",
      "Int64Index: 1455 entries, 0 to 1459\n",
      "Data columns (total 97 columns):\n",
      "LotFrontage       1455 non-null float64\n",
      "LotArea           1455 non-null float64\n",
      "Street            1455 non-null float64\n",
      "Alley             1455 non-null float64\n",
      "LotShape          1455 non-null float64\n",
      "Utilities         1455 non-null float64\n",
      "LandSlope         1455 non-null float64\n",
      "OverallQual       1455 non-null float64\n",
      "OverallCond       1455 non-null float64\n",
      "YearBuilt         1455 non-null float64\n",
      "YearRemodAdd      1455 non-null float64\n",
      "MasVnrArea        1455 non-null float64\n",
      "ExterQual         1455 non-null float64\n",
      "ExterCond         1455 non-null float64\n",
      "BsmtQual          1455 non-null float64\n",
      "BsmtCond          1455 non-null float64\n",
      "BsmtExposure      1455 non-null float64\n",
      "BsmtFinType1      1455 non-null float64\n",
      "BsmtFinSF1        1455 non-null float64\n",
      "BsmtFinType2      1455 non-null float64\n",
      "BsmtFinSF2        1455 non-null float64\n",
      "BsmtUnfSF         1455 non-null float64\n",
      "TotalBsmtSF       1455 non-null float64\n",
      "HeatingQC         1455 non-null float64\n",
      "1stFlrSF          1455 non-null float64\n",
      "2ndFlrSF          1455 non-null float64\n",
      "LowQualFinSF      1455 non-null float64\n",
      "GrLivArea         1455 non-null float64\n",
      "BsmtFullBath      1455 non-null float64\n",
      "BsmtHalfBath      1455 non-null float64\n",
      "FullBath          1455 non-null float64\n",
      "HalfBath          1455 non-null float64\n",
      "BedroomAbvGr      1455 non-null float64\n",
      "KitchenAbvGr      1455 non-null float64\n",
      "KitchenQual       1455 non-null float64\n",
      "TotRmsAbvGrd      1455 non-null float64\n",
      "Functional        1455 non-null float64\n",
      "Fireplaces        1455 non-null float64\n",
      "FireplaceQu       1455 non-null float64\n",
      "GarageYrBlt       1455 non-null float64\n",
      "GarageCars        1455 non-null float64\n",
      "GarageArea        1455 non-null float64\n",
      "GarageQual        1455 non-null float64\n",
      "GarageCond        1455 non-null float64\n",
      "PavedDrive        1455 non-null float64\n",
      "WoodDeckSF        1455 non-null float64\n",
      "OpenPorchSF       1455 non-null float64\n",
      "EnclosedPorch     1455 non-null float64\n",
      "3SsnPorch         1455 non-null float64\n",
      "ScreenPorch       1455 non-null float64\n",
      "PoolArea          1455 non-null float64\n",
      "PoolQC            1455 non-null float64\n",
      "MiscVal           1455 non-null float64\n",
      "YrSold            1455 non-null float64\n",
      "OverallGrade      1455 non-null float64\n",
      "GarageGrade       1455 non-null float64\n",
      "ExterGrade        1455 non-null float64\n",
      "KitchenScore      1455 non-null float64\n",
      "FireplaceScore    1455 non-null float64\n",
      "GarageScore       1455 non-null float64\n",
      "PoolScore         1455 non-null float64\n",
      "TotalBath         1455 non-null float64\n",
      "AllSF             1455 non-null float64\n",
      "AllFlrsSF         1455 non-null float64\n",
      "AllPorchSF        1455 non-null float64\n",
      "HasMasVnr         1455 non-null float64\n",
      "BoughtOffPlan     1455 non-null float64\n",
      "AllSF_s2          1455 non-null float64\n",
      "AllSF_s3          1455 non-null float64\n",
      "AllSF_sq          1455 non-null float64\n",
      "AllFlrsSF_s2      1455 non-null float64\n",
      "AllFlrsSF_s3      1455 non-null float64\n",
      "AllFlrsSF_sq      1455 non-null float64\n",
      "GrLivArea_s2      1455 non-null float64\n",
      "GrLivArea_s3      1455 non-null float64\n",
      "GrLivArea_sq      1455 non-null float64\n",
      "OverallQual_s2    1455 non-null float64\n",
      "OverallQual_s3    1455 non-null float64\n",
      "OverallQual_sq    1455 non-null float64\n",
      "GarageCars_s2     1455 non-null float64\n",
      "GarageCars_s3     1455 non-null float64\n",
      "GarageCars_sq     1455 non-null float64\n",
      "TotalBsmtSF_s2    1455 non-null float64\n",
      "TotalBsmtSF_s3    1455 non-null float64\n",
      "TotalBsmtSF_sq    1455 non-null float64\n",
      "GarageArea_s2     1455 non-null float64\n",
      "GarageArea_s3     1455 non-null float64\n",
      "GarageArea_sq     1455 non-null float64\n",
      "TotalBath_s2      1455 non-null float64\n",
      "TotalBath_s3      1455 non-null float64\n",
      "TotalBath_sq      1455 non-null float64\n",
      "ExterQual_s2      1455 non-null float64\n",
      "ExterQual_s3      1455 non-null float64\n",
      "ExterQual_sq      1455 non-null float64\n",
      "1stFlrSF_s2       1455 non-null float64\n",
      "1stFlrSF_s3       1455 non-null float64\n",
      "1stFlrSF_sq       1455 non-null float64\n",
      "dtypes: float64(97)\n",
      "memory usage: 1.1 MB\n"
     ]
    }
   ],
   "source": [
    "train_num.info()"
   ]
  },
  {
   "cell_type": "code",
   "execution_count": 24,
   "metadata": {
    "ExecuteTime": {
     "end_time": "2018-02-24T09:20:32.493590Z",
     "start_time": "2018-02-24T09:20:32.426044Z"
    }
   },
   "outputs": [
    {
     "name": "stdout",
     "output_type": "stream",
     "text": [
      "Numerical features : 97\n",
      "NAs for numerical features in df : 88\n",
      "Remaining NAs for numerical features in df : 0\n"
     ]
    }
   ],
   "source": [
    "#对测试集的其他数值型特征进行空缺值填补（用训练集中相应列的中值填补）\n",
    "def fillna_numerical_test(df, medians, ss_X):\n",
    "    numerical_features = df.select_dtypes(exclude = [\"object\"]).columns\n",
    "    #numerical_features = numerical_features.drop(\"SalePrice\")  #测试集中没有SalePrice\n",
    "    print(\"Numerical features : \" + str(len(numerical_features)))\n",
    "\n",
    "    df_num = df[numerical_features]\n",
    "    \n",
    "    # Handle remaining missing values for numerical features by using median as replacement\n",
    "    print(\"NAs for numerical features in df : \" + str(df_num.isnull().values.sum()))\n",
    "    df_num = df_num.fillna(medians)\n",
    "    print(\"Remaining NAs for numerical features in df : \" + str(df_num.isnull().values.sum()))\n",
    "\n",
    "    #对数值特征进行标准化\n",
    "    temp = ss_X.transform(df_num)\n",
    "    df_num = pd.DataFrame(data=temp, columns=numerical_features, index =df_num.index )\n",
    "    return df_num\n",
    "\n",
    "test_num = fillna_numerical_test(test, medians, ss_X)"
   ]
  },
  {
   "cell_type": "markdown",
   "metadata": {},
   "source": [
    "## one-hot编码"
   ]
  },
  {
   "cell_type": "code",
   "execution_count": 25,
   "metadata": {
    "ExecuteTime": {
     "end_time": "2018-02-24T09:20:33.992866Z",
     "start_time": "2018-02-24T09:20:33.838264Z"
    },
    "_cell_guid": "93029443-cbb3-e2ee-9c4a-a61e22ef1a15",
    "_uuid": "1eaa3e9ccbe41e2a33c5f50095848b566d0a3499",
    "scrolled": true
   },
   "outputs": [
    {
     "name": "stdout",
     "output_type": "stream",
     "text": [
      "Categorical features : 46\n",
      "NAs for categorical features in df : 61201\n",
      "Remaining NAs for categorical features in df : 0\n"
     ]
    }
   ],
   "source": [
    "def get_dummies_cat(df):\n",
    "    categorical_features = df.select_dtypes(include = [\"object\"]).columns\n",
    "    print(\"Categorical features : \" + str(len(categorical_features)))\n",
    "    df_cat = df[categorical_features]\n",
    "    \n",
    "\n",
    "    # Create dummy features for categorical values via one-hot encoding\n",
    "    print(\"NAs for categorical features in df : \" + str(df_cat.isnull().values.sum()))\n",
    "    df_cat = pd.get_dummies(df_cat,dummy_na=True)\n",
    "    print(\"Remaining NAs for categorical features in df : \" + str(df_cat.isnull().values.sum()))\n",
    "    \n",
    "    return df_cat\n",
    "\n",
    "#必须考虑类别型特征的取值范围（训练集和测试的取值范围可能不同，编码后的特征维数也不同，会报错）\n",
    "#train_cat = get_dummies_cat(train)\n",
    "#test_cat = get_dummies_cat(test)\n",
    "\n",
    "n_train_samples = train.shape[0]  \n",
    "train_test = pd.concat((train, test), axis=0)\n",
    "train_test_cat = get_dummies_cat(train_test)\n",
    "   \n",
    "train_cat = train_test_cat.iloc[:n_train_samples, :]\n",
    "test_cat = train_test_cat.iloc[n_train_samples:, :]"
   ]
  },
  {
   "cell_type": "code",
   "execution_count": 26,
   "metadata": {
    "ExecuteTime": {
     "end_time": "2018-02-24T09:20:34.962949Z",
     "start_time": "2018-02-24T09:20:34.939434Z"
    }
   },
   "outputs": [
    {
     "name": "stdout",
     "output_type": "stream",
     "text": [
      "<class 'pandas.core.frame.DataFrame'>\n",
      "Int64Index: 1455 entries, 0 to 1459\n",
      "Columns: 246 entries, BldgType_1Fam to SimplPoolScore_nan\n",
      "dtypes: uint8(246)\n",
      "memory usage: 360.9 KB\n"
     ]
    }
   ],
   "source": [
    "train_cat.info()"
   ]
  },
  {
   "cell_type": "markdown",
   "metadata": {},
   "source": [
    "## 合并所有特征"
   ]
  },
  {
   "cell_type": "code",
   "execution_count": 27,
   "metadata": {
    "ExecuteTime": {
     "end_time": "2018-02-24T09:20:37.968161Z",
     "start_time": "2018-02-24T09:20:36.660185Z"
    },
    "_cell_guid": "3685f20a-c332-7ab0-cced-03d639d28833",
    "_uuid": "39e8e6e7fa4b7f6e628be0bd6aa3b859cd624d2c"
   },
   "outputs": [
    {
     "name": "stdout",
     "output_type": "stream",
     "text": [
      "New number of features : 343\n",
      "New number of features : 343\n"
     ]
    }
   ],
   "source": [
    "# Join categorical and numerical features\n",
    "def joint_num_cat(df_num, df_cat):\n",
    "    df = pd.concat([df_num, df_cat], axis = 1, ignore_index=True)\n",
    "    print(\"New number of features : \" + str(df.shape[1]))\n",
    "    \n",
    "    return df\n",
    "\n",
    "FE_train = joint_num_cat(train_num, train_cat)\n",
    "FE_test = joint_num_cat(test_num, test_cat)\n",
    "\n",
    "FE_train = pd.concat([FE_train, train['SalePrice']], axis = 1)\n",
    "FE_test = pd.concat([test_id,FE_test], axis = 1)\n",
    "\n",
    "FE_train.to_csv('AmesHouse_FE_train.csv', index=False)\n",
    "FE_test.to_csv('AmesHouse_FE_test.csv', index=False)"
   ]
  },
  {
   "cell_type": "code",
   "execution_count": 28,
   "metadata": {
    "ExecuteTime": {
     "end_time": "2018-02-24T09:20:38.658897Z",
     "start_time": "2018-02-24T09:20:38.632380Z"
    }
   },
   "outputs": [
    {
     "name": "stdout",
     "output_type": "stream",
     "text": [
      "<class 'pandas.core.frame.DataFrame'>\n",
      "Int64Index: 1455 entries, 0 to 1459\n",
      "Columns: 344 entries, 0 to SalePrice\n",
      "dtypes: float64(97), int64(1), uint8(246)\n",
      "memory usage: 1.4 MB\n"
     ]
    }
   ],
   "source": [
    "FE_train.info()"
   ]
  },
  {
   "cell_type": "markdown",
   "metadata": {},
   "source": [
    "网上参考做法：http://www.sohu.com/a/141145826_572440"
   ]
  },
  {
   "cell_type": "code",
   "execution_count": null,
   "metadata": {},
   "outputs": [],
   "source": []
  },
  {
   "cell_type": "code",
   "execution_count": null,
   "metadata": {},
   "outputs": [],
   "source": []
  }
 ],
 "metadata": {
  "_change_revision": 0,
  "_is_fork": false,
  "kernelspec": {
   "display_name": "Python 3",
   "language": "python",
   "name": "python3"
  },
  "language_info": {
   "codemirror_mode": {
    "name": "ipython",
    "version": 3
   },
   "file_extension": ".py",
   "mimetype": "text/x-python",
   "name": "python",
   "nbconvert_exporter": "python",
   "pygments_lexer": "ipython3",
   "version": "3.6.3"
  },
  "toc": {
   "nav_menu": {},
   "number_sections": true,
   "sideBar": true,
   "skip_h1_title": false,
   "title_cell": "Table of Contents",
   "title_sidebar": "Contents",
   "toc_cell": true,
   "toc_position": {
    "height": "625px",
    "left": "0px",
    "right": "853px",
    "top": "95px",
    "width": "248px"
   },
   "toc_section_display": "block",
   "toc_window_display": true
  }
 },
 "nbformat": 4,
 "nbformat_minor": 2
}
